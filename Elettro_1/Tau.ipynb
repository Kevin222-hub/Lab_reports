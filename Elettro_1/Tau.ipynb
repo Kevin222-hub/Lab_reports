{
 "cells": [
  {
   "cell_type": "code",
   "execution_count": 25,
   "metadata": {},
   "outputs": [],
   "source": [
    "import matplotlib.pyplot as plt\n",
    "import my_library as my\n",
    "import numpy as np\n",
    "import scipy as sp\n",
    "import pandas as pd\n",
    "from scipy import stats\n",
    "from math import log10, floor,pi,sqrt\n",
    "def my_line(x, m=1, c=0):\n",
    "    return x*m \n",
    "def y_inc(xl, sigma_m, sigma_c, cov_mc):\n",
    "    return np.sqrt(np.power(xl, 2)*np.power(sigma_m, 2) +\n",
    "                   np.power(sigma_c, 2) +\n",
    "                  2*xl*cov_mc) \n",
    "m=0.001\n",
    "u=0.000001\n",
    "n=0.000000001\n",
    "p=0.000000000001\n",
    "k=1000\n",
    "M=1000000\n",
    "G=1000000000\n",
    "T=1000000000000"
   ]
  },
  {
   "cell_type": "code",
   "execution_count": 79,
   "metadata": {},
   "outputs": [],
   "source": [
    "#3% + 10 millvolt\n",
    "R = 2.673*k\n",
    "C = 22*n\n",
    "\n",
    "V01 = 1000\n",
    "sV01 = 1\n",
    "V02 = 2000\n",
    "sV02 = 1\n",
    "V03 = 500\n",
    "sV03 = 1\n",
    "\n",
    "ep = 0.001\n",
    "\n",
    "def sigmaV(v):\n",
    "    return v/100*3+10\n",
    "\n",
    "def sig(v,sv,v0,sv0):\n",
    "    return v/v0*np.sqrt( np.power(sv/v,2) + np.power(sv0/v0,2) ) \n",
    "def slog(s,v):\n",
    "    return np.abs( np.log(v+s) - np.log(v) ) \n",
    "def sigtot(v,sv,v0,sv0):\n",
    "    return slog( sig(v,sv,v0,sv0), v/v0 )"
   ]
  },
  {
   "cell_type": "code",
   "execution_count": 80,
   "metadata": {},
   "outputs": [
    {
     "name": "stdout",
     "output_type": "stream",
     "text": [
      "Tau =  5.8806000000000006e-05\n",
      "mTau =  -17005.067510118013\n"
     ]
    }
   ],
   "source": [
    "Tau = R*C\n",
    "mTau = -1/Tau\n",
    "print(\"Tau = \",Tau)\n",
    "print(\"mTau = \",mTau)"
   ]
  },
  {
   "cell_type": "code",
   "execution_count": 86,
   "metadata": {},
   "outputs": [
    {
     "data": {
      "text/plain": [
       "array([0.00282443, 0.00355045, 0.00503049, 0.0073902 , 0.01099141,\n",
       "       0.01664691, 0.02477053, 0.03514534, 0.04882824, 0.08006486,\n",
       "       0.11779726, 0.22314995])"
      ]
     },
     "execution_count": 86,
     "metadata": {},
     "output_type": "execute_result"
    }
   ],
   "source": [
    "Data = pd.read_csv('Data.csv').T.to_numpy()\n",
    "\n",
    "T1 = Data[0]\n",
    "T2 = Data[2]\n",
    "T3 = Data[4]\n",
    "\n",
    "Y1 = np.log(1-Data[1]/V01)\n",
    "Y2 = np.log(Data[3]/V02)\n",
    "Y3 = np.log(1-Data[5]/V03)\n",
    "\n",
    "sigma = np.array([ep,ep,ep,ep,ep,ep,ep,ep,ep,ep,ep,ep])\n",
    "In = sigtot(0.500-Data[5]*m,ep,0.5,0.001)\n",
    "In"
   ]
  },
  {
   "cell_type": "code",
   "execution_count": 87,
   "metadata": {},
   "outputs": [
    {
     "name": "stdout",
     "output_type": "stream",
     "text": [
      "m1 =  -0.019193860230141302 +- 3.916943111055179e-06\n",
      "m2 =  -0.018881485504435348 +- 3.916943111055179e-06\n",
      "m3 =  -0.03507312926286666 +- 0.00012048495182508447\n"
     ]
    }
   ],
   "source": [
    "m1,sm1,c1,sc1,cs1 = my.lin_fit ( T1, Y1, sigma, verbose=False,plot=False)\n",
    "m2,sm2,c2,sc2,cs2 = my.lin_fit ( T2, Y2, sigma, verbose=False,plot=False)\n",
    "m3,sm3,c3,sc3,cs3 = my.lin_fit ( T3, Y3, In, verbose=False,plot=False)\n",
    "print(\"m1 = \",m1,\"+-\",sm1)\n",
    "print(\"m2 = \",m2,\"+-\",sm2)\n",
    "print(\"m3 = \",m3,\"+-\",sm3)"
   ]
  },
  {
   "cell_type": "code",
   "execution_count": 88,
   "metadata": {},
   "outputs": [
    {
     "name": "stdout",
     "output_type": "stream",
     "text": [
      "Tau1 =  5.2099993852702875\n",
      "Tau2 =  5.296193457686872\n",
      "Tau3 =  2.8511855686020593\n"
     ]
    }
   ],
   "source": [
    "Tau1 = -0.1/m1\n",
    "Tau2 = -0.1/m2\n",
    "Tau3 = -0.1/m3\n",
    "print(\"Tau1 = \",Tau1)\n",
    "print(\"Tau2 = \",Tau2)\n",
    "print(\"Tau3 = \",Tau3)"
   ]
  },
  {
   "cell_type": "code",
   "execution_count": 89,
   "metadata": {},
   "outputs": [
    {
     "data": {
      "text/plain": [
       "<matplotlib.legend.Legend at 0x234d499c1c8>"
      ]
     },
     "execution_count": 89,
     "metadata": {},
     "output_type": "execute_result"
    },
    {
     "data": {
      "image/png": "[encoded data removed]",
      "text/plain": [
       "<Figure size 432x288 with 1 Axes>"
      ]
     },
     "metadata": {
      "needs_background": "light"
     },
     "output_type": "display_data"
    }
   ],
   "source": [
    "# rappresento i punti misurati\n",
    "plt.errorbar(T3, 500-Data[5], yerr=0, xerr=0, ls='', marker='.', label='Misurazioni')\n",
    "\n",
    "plt.grid(b=None, which='major', axis='both')\n",
    "\n",
    "plt.xlabel('Tempo [$us$]')\n",
    "plt.ylabel('Tensione [$mV$]')\n",
    "plt.title('Tensione vs Tempo')\n",
    "plt.legend()"
   ]
  },
  {
   "cell_type": "code",
   "execution_count": 90,
   "metadata": {},
   "outputs": [
    {
     "data": {
      "text/plain": [
       "<matplotlib.legend.Legend at 0x234d4a3db08>"
      ]
     },
     "execution_count": 90,
     "metadata": {},
     "output_type": "execute_result"
    },
    {
     "data": {
      "image/png": "[encoded data removed]",
      "text/plain": [
       "<Figure size 432x288 with 1 Axes>"
      ]
     },
     "metadata": {
      "needs_background": "light"
     },
     "output_type": "display_data"
    }
   ],
   "source": [
    "xmin = 0\n",
    "xmax = 132\n",
    "\n",
    "# rappresento i punti misurati\n",
    "plt.errorbar(T3, Y3, yerr=In, xerr=0, ls='', marker='.', label='Misurazioni')\n",
    "\n",
    "# costruisco dei punti x su cui valutare la retta di regressione\n",
    "xl = np.linspace(xmin, xmax, 100)\n",
    "\n",
    "# uso i parametri medi di m e c\n",
    "yl0 = my_line(xl, m3,c3)\n",
    "\n",
    "# rappresento la retta di regressione\n",
    "plt.plot(xl, yl0, 'g-.', label='Fit')\n",
    "plt.grid(b=None, which='major', axis='both')\n",
    "\n",
    "plt.xlabel('Time [$us$]')\n",
    "plt.ylabel('$Log\\dfrac{V}{V0}$')\n",
    "plt.title('Fit Lineare')\n",
    "plt.legend()"
   ]
  },
  {
   "cell_type": "code",
   "execution_count": null,
   "metadata": {},
   "outputs": [],
   "source": []
  }
 ],
 "metadata": {
  "kernelspec": {
   "display_name": "Python 3",
   "language": "python",
   "name": "python3"
  },
  "language_info": {
   "codemirror_mode": {
    "name": "ipython",
    "version": 3
   },
   "file_extension": ".py",
   "mimetype": "text/x-python",
   "name": "python",
   "nbconvert_exporter": "python",
   "pygments_lexer": "ipython3",
   "version": "3.7.6"
  }
 },
 "nbformat": 4,
 "nbformat_minor": 4
}
