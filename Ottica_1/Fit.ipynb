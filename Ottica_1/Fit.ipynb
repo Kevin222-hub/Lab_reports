{
 "cells": [
  {
   "cell_type": "code",
   "execution_count": 1,
   "metadata": {},
   "outputs": [],
   "source": [
    "import my_lib as my\n",
    "import matplotlib.pyplot as plt\n",
    "import numpy as np\n",
    "import scipy as s\n",
    "import pandas as pd\n",
    "from scipy import stats\n",
    "from math import log10, floor,pi,sqrt,tan\n",
    "\n",
    "m=0.001\n",
    "u=0.000001\n",
    "n=0.000000001\n",
    "p=0.000000000001\n",
    "k=1000\n",
    "M=1000000\n",
    "G=1000000000\n",
    "T=1000000000000\n",
    "\n",
    "#funzioni\n",
    "#Pt 1\n",
    "def Lambda(x,Z,F,m): # nm\n",
    "    L = x*F/(Z*m) *M  # M: normalizzazione L[nm]\n",
    "    return L\n",
    "\n",
    "#Pt 2\n",
    "def Beta(x,Z,d,L):\n",
    "    B = pi*d*x/(L*Z) *M\n",
    "    return B\n",
    "def Intensity(B,I0):\n",
    "    I = I0*np.power(np.sin(B)/B,2)\n",
    "    return I\n",
    "#errore\n",
    "#Pt 1\n",
    "def SigmaLambda(x,sx,Z,sZ,F,sF):\n",
    "    dx = Lambda(sx,Z, F,m)\n",
    "    dF = Lambda( x,Z,sF,m)\n",
    "    dZ = F*x/np.power(Z,2)*sZ\n",
    "    sL = np.sqrt(np.power(dx,2) + np.power(dZ,2) + np.power(dF,2) )\n",
    "    return sL\n",
    "\n",
    "\n",
    "#Pt 2\n",
    "def SigmaBeta(x,sx,Z,sZ,d,sd,L,sL):\n",
    "    dx = Beta(sx,Z, d,L)\n",
    "    dd = Beta( x,Z,sd,L)\n",
    "    dZ = pi*d*x/(L*np.power(Z,2))*sZ\n",
    "    dL = pi*d*x/(Z*np.power(L,2))*sL\n",
    "    sB = np.sqrt(np.power(dx,2) + np.power(dZ,2) + np.power(dd,2) + np.power(dL,2) ) \n",
    "    return sB\n",
    "\n",
    "def SigmaIntensity(B,sB,I0,sI0):\n",
    "    dB = 2*I0*np.sin(B)*( B*np.cos(B)-np.sin(B) )/np.power(B,3)*sB\n",
    "    dI0 = Intensity(B,sI0)\n",
    "    sI = np.sqrt( np.power(dB,2) + np.power(dI0,2) )\n",
    "    return sI\n"
   ]
  },
  {
   "cell_type": "code",
   "execution_count": 2,
   "metadata": {},
   "outputs": [],
   "source": [
    "def SigmaM(x1,sx1,x2,sx2,y1,sy1,y2,sy2):\n",
    "    \n",
    "    dy2 =  1/(x2-x1) *sy2\n",
    "    dy1 = -1/(x2-x1) *sy1\n",
    "    #dx2 =  ((y2-y1)/(x2-x1)**2)*sx2\n",
    "    #dx1 =  ((y2-y1)/(x2-x1)**2)*sx1\n",
    "    dx2 = 0\n",
    "    dx1 = 0\n",
    "\n",
    "    sm = my.sqrt_sum(dx1,dx2,dy1,dy2)\n",
    "    #print(dy2,dy1,dx2,dx1)\n",
    "    return sm\n",
    "\n",
    "def SigmaQ(x1,sx1,x2,sx2,y1,sy1,y2,sy2):\n",
    "    \n",
    "    dy2 = -x1/(x2-x1) *sy2\n",
    "    dy1 =  x2/(x2-x1) *sy1\n",
    "    #dx2 =  x1*(y2-y1)/np.power(x2-x1,2) *sx2\n",
    "    #dx1 = -x2*(y2-y1)/np.power(x2-x1,2) *sx1\n",
    "    dx2 = 0\n",
    "    dx1 = 0\n",
    "    sq = my.sqrt_sum(dx1,dx2,dy1,dy2)\n",
    "    return sq\n",
    "def Retta(x1,sx1,x2,sx2,y1,sy1,y2,sy2):\n",
    "    m = (y2-y1)/(x2-x1)\n",
    "    q = y1 - m*x1\n",
    "    sm = SigmaM(x1,sx1,x2,sx2,y1,sy1,y2,sy2)\n",
    "    sq = SigmaQ(x1,sx1,x2,sx2,y1,sy1,y2,sy2)\n",
    "    return m,sm,q,sq"
   ]
  },
  {
   "cell_type": "code",
   "execution_count": 3,
   "metadata": {},
   "outputs": [
    {
     "data": {
      "text/html": [
       "<div>\n",
       "<style scoped>\n",
       "    .dataframe tbody tr th:only-of-type {\n",
       "        vertical-align: middle;\n",
       "    }\n",
       "\n",
       "    .dataframe tbody tr th {\n",
       "        vertical-align: top;\n",
       "    }\n",
       "\n",
       "    .dataframe thead th {\n",
       "        text-align: right;\n",
       "    }\n",
       "</style>\n",
       "<table border=\"1\" class=\"dataframe\">\n",
       "  <thead>\n",
       "    <tr style=\"text-align: right;\">\n",
       "      <th></th>\n",
       "      <th>m</th>\n",
       "      <th>d[mm]</th>\n",
       "      <th>I0[mV]</th>\n",
       "      <th>I1[mV]</th>\n",
       "      <th>I2[mV]</th>\n",
       "      <th>I3[mV]</th>\n",
       "      <th>I4[mV]</th>\n",
       "      <th>x0[mm]</th>\n",
       "      <th>x1[mm]</th>\n",
       "      <th>x2[mm]</th>\n",
       "      <th>x3[mm]</th>\n",
       "      <th>x4[mm]</th>\n",
       "    </tr>\n",
       "  </thead>\n",
       "  <tbody>\n",
       "    <tr>\n",
       "      <th>0</th>\n",
       "      <td>1.00</td>\n",
       "      <td>0.2</td>\n",
       "      <td>6400</td>\n",
       "      <td>55</td>\n",
       "      <td>47</td>\n",
       "      <td>55</td>\n",
       "      <td>57</td>\n",
       "      <td>10.90</td>\n",
       "      <td>8.39</td>\n",
       "      <td>8.34</td>\n",
       "      <td>7.13</td>\n",
       "      <td>7.00</td>\n",
       "    </tr>\n",
       "    <tr>\n",
       "      <th>1</th>\n",
       "      <td>1.00</td>\n",
       "      <td>0.2</td>\n",
       "      <td>6400</td>\n",
       "      <td>31</td>\n",
       "      <td>27</td>\n",
       "      <td>21</td>\n",
       "      <td>28</td>\n",
       "      <td>10.90</td>\n",
       "      <td>13.67</td>\n",
       "      <td>13.84</td>\n",
       "      <td>14.40</td>\n",
       "      <td>14.42</td>\n",
       "    </tr>\n",
       "    <tr>\n",
       "      <th>2</th>\n",
       "      <td>1.00</td>\n",
       "      <td>0.4</td>\n",
       "      <td>7280</td>\n",
       "      <td>70</td>\n",
       "      <td>68</td>\n",
       "      <td>72</td>\n",
       "      <td>78</td>\n",
       "      <td>8.28</td>\n",
       "      <td>6.98</td>\n",
       "      <td>7.00</td>\n",
       "      <td>7.70</td>\n",
       "      <td>7.90</td>\n",
       "    </tr>\n",
       "    <tr>\n",
       "      <th>3</th>\n",
       "      <td>1.00</td>\n",
       "      <td>0.4</td>\n",
       "      <td>7280</td>\n",
       "      <td>165</td>\n",
       "      <td>154</td>\n",
       "      <td>152</td>\n",
       "      <td>158</td>\n",
       "      <td>8.28</td>\n",
       "      <td>10.41</td>\n",
       "      <td>10.44</td>\n",
       "      <td>10.53</td>\n",
       "      <td>10.54</td>\n",
       "    </tr>\n",
       "    <tr>\n",
       "      <th>4</th>\n",
       "      <td>1.22</td>\n",
       "      <td>0.6</td>\n",
       "      <td>8020</td>\n",
       "      <td>71</td>\n",
       "      <td>68</td>\n",
       "      <td>76</td>\n",
       "      <td>82</td>\n",
       "      <td>10.84</td>\n",
       "      <td>9.09</td>\n",
       "      <td>9.01</td>\n",
       "      <td>9.00</td>\n",
       "      <td>8.98</td>\n",
       "    </tr>\n",
       "    <tr>\n",
       "      <th>5</th>\n",
       "      <td>1.22</td>\n",
       "      <td>0.4</td>\n",
       "      <td>8850</td>\n",
       "      <td>46</td>\n",
       "      <td>44</td>\n",
       "      <td>42</td>\n",
       "      <td>45</td>\n",
       "      <td>8.74</td>\n",
       "      <td>7.09</td>\n",
       "      <td>7.06</td>\n",
       "      <td>6.99</td>\n",
       "      <td>6.97</td>\n",
       "    </tr>\n",
       "    <tr>\n",
       "      <th>6</th>\n",
       "      <td>1.22</td>\n",
       "      <td>0.4</td>\n",
       "      <td>8850</td>\n",
       "      <td>122</td>\n",
       "      <td>121</td>\n",
       "      <td>124</td>\n",
       "      <td>128</td>\n",
       "      <td>8.74</td>\n",
       "      <td>10.16</td>\n",
       "      <td>10.15</td>\n",
       "      <td>10.10</td>\n",
       "      <td>10.07</td>\n",
       "    </tr>\n",
       "  </tbody>\n",
       "</table>\n",
       "</div>"
      ],
      "text/plain": [
       "      m   d[mm]   I0[mV]   I1[mV]   I2[mV]   I3[mV]   I4[mV]   x0[mm]  \\\n",
       "0  1.00     0.2     6400       55       47       55       57    10.90   \n",
       "1  1.00     0.2     6400       31       27       21       28    10.90   \n",
       "2  1.00     0.4     7280       70       68       72       78     8.28   \n",
       "3  1.00     0.4     7280      165      154      152      158     8.28   \n",
       "4  1.22     0.6     8020       71       68       76       82    10.84   \n",
       "5  1.22     0.4     8850       46       44       42       45     8.74   \n",
       "6  1.22     0.4     8850      122      121      124      128     8.74   \n",
       "\n",
       "    x1[mm]   x2[mm]   x3[mm]   x4[mm]  \n",
       "0     8.39     8.34     7.13     7.00  \n",
       "1    13.67    13.84    14.40    14.42  \n",
       "2     6.98     7.00     7.70     7.90  \n",
       "3    10.41    10.44    10.53    10.54  \n",
       "4     9.09     9.01     9.00     8.98  \n",
       "5     7.09     7.06     6.99     6.97  \n",
       "6    10.16    10.15    10.10    10.07  "
      ]
     },
     "execution_count": 3,
     "metadata": {},
     "output_type": "execute_result"
    }
   ],
   "source": [
    "df1   = pd.read_csv('data1.csv')\n",
    "m     = np.asarray(df1.iloc[:,0]) # m del minimo\n",
    "F     = np.asarray(df1.iloc[:,1]) #fenditura\n",
    "\n",
    "sF    = np.full(7,0.001) # sigma a caso\n",
    "# sigma a caso\n",
    "df1"
   ]
  },
  {
   "cell_type": "code",
   "execution_count": 10,
   "metadata": {},
   "outputs": [
    {
     "data": {
      "image/png": "[encoded data removed]",
      "text/plain": [
       "<Figure size 432x288 with 1 Axes>"
      ]
     },
     "metadata": {
      "needs_background": "light"
     },
     "output_type": "display_data"
    },
    {
     "data": {
      "image/png": "[encoded data removed]",
      "text/plain": [
       "<Figure size 432x288 with 1 Axes>"
      ]
     },
     "metadata": {
      "needs_background": "light"
     },
     "output_type": "display_data"
    },
    {
     "data": {
      "image/png": "[encoded data removed]",
      "text/plain": [
       "<Figure size 432x288 with 1 Axes>"
      ]
     },
     "metadata": {
      "needs_background": "light"
     },
     "output_type": "display_data"
    },
    {
     "data": {
      "image/png": "[encoded data removed]",
      "text/plain": [
       "<Figure size 432x288 with 1 Axes>"
      ]
     },
     "metadata": {
      "needs_background": "light"
     },
     "output_type": "display_data"
    },
    {
     "data": {
      "image/png": "[encoded data removed]",
      "text/plain": [
       "<Figure size 432x288 with 1 Axes>"
      ]
     },
     "metadata": {
      "needs_background": "light"
     },
     "output_type": "display_data"
    },
    {
     "data": {
      "image/png": "[encoded data removed]",
      "text/plain": [
       "<Figure size 432x288 with 1 Axes>"
      ]
     },
     "metadata": {
      "needs_background": "light"
     },
     "output_type": "display_data"
    },
    {
     "data": {
      "image/png": "[encoded data removed]",
      "text/plain": [
       "<Figure size 432x288 with 1 Axes>"
      ]
     },
     "metadata": {
      "needs_background": "light"
     },
     "output_type": "display_data"
    },
    {
     "name": "stdout",
     "output_type": "stream",
     "text": [
      "0    2.120526\n",
      "1    3.480787\n",
      "2    1.149231\n",
      "3    1.717931\n",
      "4    1.315185\n",
      "5    1.737692\n",
      "6    1.394286\n",
      "Name:  x0[mm], dtype: float64 +- [ 2.19657665  2.04252586  7.92907821  7.57009777  4.57557504  3.62895023\n",
      " 23.72016051]\n"
     ]
    }
   ],
   "source": [
    "ArrX = np.asarray(df1.iloc[:,8:12])\n",
    "ArrY = np.asarray(df1.iloc[:,3:7])\n",
    "ArrsX = ArrX*0.005\n",
    "ArrsY = ArrY*0.03\n",
    "\n",
    "Xmin = np.asarray([])\n",
    "sXmin = np.asarray([])\n",
    "\n",
    "for x in range(len(ArrX)):\n",
    "\n",
    "    X  = ArrX[x]\n",
    "    sX = ArrsX[x]\n",
    "    Y  = ArrY[x]\n",
    "    sY = ArrsY[x]\n",
    "\n",
    "    plt.errorbar(X,Y,sY, ls='', marker='.',label = '{}'.format(x))\n",
    "    plt.legend()\n",
    "    plt.show()\n",
    "    m1,sm1,q1,sq1 = Retta(X[0],sX[0],X[1],sX[1],Y[0],sY[0],Y[1],sY[1])\n",
    "    m2,sm2,q2,sq2 = Retta(X[2],sX[2],X[3],sX[3],Y[2],sY[2],Y[3],sY[3])\n",
    "\n",
    "\n",
    "    Value = (q2-q1)/(m1-m2)\n",
    "    sValue = my.SigmaM(m2,sm2,m1,sm1,q1,sq1,q2,sq2)      \n",
    "    \n",
    "    Xmin = np.append(Xmin,Value)                         \n",
    "    sXmin = np.append(sXmin,sValue)\n",
    "\n",
    "A = Xmin\n",
    "Xmin =  np.abs(Xmin  - df1.iloc[:,7])\n",
    "\n",
    "#x = np.linspace(13.5,15,100)\n",
    "#plt.errorbar(X,Y,yerr=sY,ls='',color='g',marker='.')\n",
    "#plt.plot(x,(m1)*x+q1)\n",
    "#plt.plot(x,(m2)*x+q2)\n",
    "#plt.vlines(Value, ymin=0, ymax = 100)\n",
    "\n",
    "#plt.ylim(0,100)\n",
    "#plt.xlim(13.6,14.5)\n",
    "\n",
    "#Xmin[2] = Xmin[2]+0.5\n",
    "Xmin[0] = Xmin[0]-0.5\n",
    "Xmin[3] = Xmin[3]-0.5\n",
    "Xmin[4] = Xmin[4]-0.5\n",
    "print(Xmin,'+-',sXmin)"
   ]
  },
  {
   "cell_type": "code",
   "execution_count": 5,
   "metadata": {},
   "outputs": [
    {
     "name": "stdout",
     "output_type": "stream",
     "text": [
      "0    497.776130\n",
      "1    817.086245\n",
      "2    539.544962\n",
      "3    806.540392\n",
      "4    759.169467\n",
      "5    668.703266\n",
      "6    536.552649\n",
      "Name:  x0[mm], dtype: float64\n",
      "Lambda = 660.767587375538  +-  1559.9052302747639\n"
     ]
    }
   ],
   "source": [
    "Z = 852     # mm \n",
    "sZ  = 2\n",
    "\n",
    "Array_L  = Lambda(Xmin,Z,F,m)\n",
    "Array_sL = SigmaLambda(Xmin,sXmin,Z,sZ,F,sF)\n",
    "L = np.sum(Array_L)/len(Array_L)\n",
    "sL = my.sqrt_sum(Array_sL)/len(Array_sL)\n",
    "#sL = 1\n",
    "print(Array_L)\n",
    "print('Lambda =',L,' +- ',sL)"
   ]
  },
  {
   "cell_type": "code",
   "execution_count": 6,
   "metadata": {},
   "outputs": [
    {
     "name": "stdout",
     "output_type": "stream",
     "text": [
      "[3.30065686 1.4335809  1.56598901]\n"
     ]
    }
   ],
   "source": [
    "A[0] = A[0]-0.5\n",
    "A[3] = A[3]-0.5\n",
    "\n",
    "B = np.asarray([])\n",
    "B = np.append(B,A[0]-A[1])\n",
    "B = np.append(B,A[2]-A[3])\n",
    "B = np.append(B,A[5]-A[6])\n",
    "B = np.abs(B/2)\n",
    "print(B)"
   ]
  },
  {
   "cell_type": "code",
   "execution_count": 23,
   "metadata": {},
   "outputs": [
    {
     "name": "stdout",
     "output_type": "stream",
     "text": [
      "[774.8020795  673.04267693 602.62795774]\n",
      "Lambda = 683.4909047243859\n"
     ]
    }
   ],
   "source": [
    "m2 = np.asarray([1,1,1.22])\n",
    "F2 = np.asarray([0.2,0.4,0.4])\n",
    "AL  = Lambda(B,Z,F2,m2)\n",
    "L2 = np.sum(AL)/len(AL)\n",
    "print(AL)\n",
    "print('Lambda =',L2)"
   ]
  },
  {
   "cell_type": "code",
   "execution_count": null,
   "metadata": {},
   "outputs": [],
   "source": []
  },
  {
   "cell_type": "code",
   "execution_count": null,
   "metadata": {},
   "outputs": [],
   "source": []
  }
 ],
 "metadata": {
  "kernelspec": {
   "display_name": "Python 3",
   "language": "python",
   "name": "python3"
  },
  "language_info": {
   "codemirror_mode": {
    "name": "ipython",
    "version": 3
   },
   "file_extension": ".py",
   "mimetype": "text/x-python",
   "name": "python",
   "nbconvert_exporter": "python",
   "pygments_lexer": "ipython3",
   "version": "3.8.5"
  }
 },
 "nbformat": 4,
 "nbformat_minor": 4
}
