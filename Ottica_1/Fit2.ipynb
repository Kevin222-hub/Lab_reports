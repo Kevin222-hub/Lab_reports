{
 "cells": [
  {
   "cell_type": "code",
   "execution_count": 28,
   "metadata": {},
   "outputs": [],
   "source": [
    "import my_lib as my\n",
    "import matplotlib.pyplot as plt\n",
    "import numpy as np\n",
    "import scipy as s\n",
    "import pandas as pd\n",
    "from scipy import stats\n",
    "from math import log10, floor,pi,sqrt,tan\n",
    "\n",
    "m=0.001\n",
    "u=0.000001\n",
    "n=0.000000001\n",
    "p=0.000000000001\n",
    "k=1000\n",
    "M=1000000\n",
    "G=1000000000\n",
    "T=1000000000000\n",
    "\n",
    "#funzioni\n",
    "#Pt 1\n",
    "def Lambda(x,Z,F,m): # nm\n",
    "    L = x*F/(Z*m) *M  # M: normalizzazione L[nm]\n",
    "    return L\n",
    "\n",
    "#errore\n",
    "def SigmaLambda(x,sx,Z,sZ,F,sF):\n",
    "    dx = Lambda(sx,Z, F,m)\n",
    "    dF = Lambda( x,Z,sF,m)\n",
    "    dZ = F*x/(np.power(Z,2)*m)*sZ *M\n",
    "    sL = np.sqrt(np.power(dx,2) + np.power(dZ,2) + np.power(dF,2) )\n",
    "    return sL"
   ]
  },
  {
   "cell_type": "code",
   "execution_count": 29,
   "metadata": {},
   "outputs": [
    {
     "data": {
      "text/html": [
       "<div>\n",
       "<style scoped>\n",
       "    .dataframe tbody tr th:only-of-type {\n",
       "        vertical-align: middle;\n",
       "    }\n",
       "\n",
       "    .dataframe tbody tr th {\n",
       "        vertical-align: top;\n",
       "    }\n",
       "\n",
       "    .dataframe thead th {\n",
       "        text-align: right;\n",
       "    }\n",
       "</style>\n",
       "<table border=\"1\" class=\"dataframe\">\n",
       "  <thead>\n",
       "    <tr style=\"text-align: right;\">\n",
       "      <th></th>\n",
       "      <th>m</th>\n",
       "      <th>d[mm]</th>\n",
       "      <th>I0[mV]</th>\n",
       "      <th>I1[mV]</th>\n",
       "      <th>I2[mV]</th>\n",
       "      <th>I3[mV]</th>\n",
       "      <th>I4[mV]</th>\n",
       "      <th>x0[mm]</th>\n",
       "      <th>x1[mm]</th>\n",
       "      <th>x2[mm]</th>\n",
       "      <th>x3[mm]</th>\n",
       "      <th>x4[mm]</th>\n",
       "    </tr>\n",
       "  </thead>\n",
       "  <tbody>\n",
       "    <tr>\n",
       "      <th>0</th>\n",
       "      <td>1.00</td>\n",
       "      <td>0.2</td>\n",
       "      <td>6400</td>\n",
       "      <td>55</td>\n",
       "      <td>47</td>\n",
       "      <td>55</td>\n",
       "      <td>57</td>\n",
       "      <td>10.90</td>\n",
       "      <td>8.39</td>\n",
       "      <td>8.34</td>\n",
       "      <td>7.13</td>\n",
       "      <td>7.00</td>\n",
       "    </tr>\n",
       "    <tr>\n",
       "      <th>1</th>\n",
       "      <td>1.00</td>\n",
       "      <td>0.2</td>\n",
       "      <td>6400</td>\n",
       "      <td>31</td>\n",
       "      <td>27</td>\n",
       "      <td>24</td>\n",
       "      <td>28</td>\n",
       "      <td>10.90</td>\n",
       "      <td>13.67</td>\n",
       "      <td>13.84</td>\n",
       "      <td>14.40</td>\n",
       "      <td>14.42</td>\n",
       "    </tr>\n",
       "    <tr>\n",
       "      <th>2</th>\n",
       "      <td>1.00</td>\n",
       "      <td>0.4</td>\n",
       "      <td>7280</td>\n",
       "      <td>70</td>\n",
       "      <td>68</td>\n",
       "      <td>72</td>\n",
       "      <td>78</td>\n",
       "      <td>8.28</td>\n",
       "      <td>6.98</td>\n",
       "      <td>7.00</td>\n",
       "      <td>7.07</td>\n",
       "      <td>7.09</td>\n",
       "    </tr>\n",
       "    <tr>\n",
       "      <th>3</th>\n",
       "      <td>1.00</td>\n",
       "      <td>0.4</td>\n",
       "      <td>7280</td>\n",
       "      <td>165</td>\n",
       "      <td>154</td>\n",
       "      <td>152</td>\n",
       "      <td>158</td>\n",
       "      <td>8.28</td>\n",
       "      <td>10.41</td>\n",
       "      <td>10.44</td>\n",
       "      <td>10.53</td>\n",
       "      <td>10.54</td>\n",
       "    </tr>\n",
       "    <tr>\n",
       "      <th>4</th>\n",
       "      <td>1.22</td>\n",
       "      <td>0.6</td>\n",
       "      <td>8020</td>\n",
       "      <td>71</td>\n",
       "      <td>68</td>\n",
       "      <td>76</td>\n",
       "      <td>82</td>\n",
       "      <td>10.84</td>\n",
       "      <td>9.09</td>\n",
       "      <td>9.01</td>\n",
       "      <td>9.00</td>\n",
       "      <td>8.98</td>\n",
       "    </tr>\n",
       "    <tr>\n",
       "      <th>5</th>\n",
       "      <td>1.22</td>\n",
       "      <td>0.4</td>\n",
       "      <td>8850</td>\n",
       "      <td>46</td>\n",
       "      <td>44</td>\n",
       "      <td>42</td>\n",
       "      <td>45</td>\n",
       "      <td>8.74</td>\n",
       "      <td>7.09</td>\n",
       "      <td>7.06</td>\n",
       "      <td>6.99</td>\n",
       "      <td>6.97</td>\n",
       "    </tr>\n",
       "    <tr>\n",
       "      <th>6</th>\n",
       "      <td>1.22</td>\n",
       "      <td>0.4</td>\n",
       "      <td>8850</td>\n",
       "      <td>122</td>\n",
       "      <td>121</td>\n",
       "      <td>124</td>\n",
       "      <td>128</td>\n",
       "      <td>8.74</td>\n",
       "      <td>10.16</td>\n",
       "      <td>10.15</td>\n",
       "      <td>10.10</td>\n",
       "      <td>10.07</td>\n",
       "    </tr>\n",
       "  </tbody>\n",
       "</table>\n",
       "</div>"
      ],
      "text/plain": [
       "      m   d[mm]   I0[mV]   I1[mV]   I2[mV]   I3[mV]   I4[mV]   x0[mm]  \\\n",
       "0  1.00     0.2     6400       55       47       55       57    10.90   \n",
       "1  1.00     0.2     6400       31       27       24       28    10.90   \n",
       "2  1.00     0.4     7280       70       68       72       78     8.28   \n",
       "3  1.00     0.4     7280      165      154      152      158     8.28   \n",
       "4  1.22     0.6     8020       71       68       76       82    10.84   \n",
       "5  1.22     0.4     8850       46       44       42       45     8.74   \n",
       "6  1.22     0.4     8850      122      121      124      128     8.74   \n",
       "\n",
       "    x1[mm]   x2[mm]   x3[mm]   x4[mm]  \n",
       "0     8.39     8.34     7.13     7.00  \n",
       "1    13.67    13.84    14.40    14.42  \n",
       "2     6.98     7.00     7.07     7.09  \n",
       "3    10.41    10.44    10.53    10.54  \n",
       "4     9.09     9.01     9.00     8.98  \n",
       "5     7.09     7.06     6.99     6.97  \n",
       "6    10.16    10.15    10.10    10.07  "
      ]
     },
     "execution_count": 29,
     "metadata": {},
     "output_type": "execute_result"
    }
   ],
   "source": [
    "df1   = pd.read_csv('data1.csv')\n",
    "m     = np.asarray(df1.iloc[:,0]) # m del minimo\n",
    "F     = np.asarray(df1.iloc[:,1]) #fenditura\n",
    "\n",
    "sF    = np.full(7,0.001) # sigma a caso\n",
    "# sigma a caso\n",
    "df1"
   ]
  },
  {
   "cell_type": "code",
   "execution_count": 38,
   "metadata": {},
   "outputs": [
    {
     "data": {
      "image/png": "[encoded data removed]",
      "text/plain": [
       "<Figure size 432x288 with 1 Axes>"
      ]
     },
     "metadata": {
      "needs_background": "light"
     },
     "output_type": "display_data"
    },
    {
     "name": "stdout",
     "output_type": "stream",
     "text": [
      "a =  26.544319189827 +- 42.197349513262836\n",
      "b =  -413.5711639235119 +- 650.7287235289989\n",
      "COV =  -27458.50842423222\n",
      "[[ 1.78061631e+03 -2.74585084e+04  1.05107942e+05]\n",
      " [-2.74585084e+04  4.23447872e+05 -1.62097193e+06]\n",
      " [ 1.05107942e+05 -1.62097193e+06  6.20538883e+06]]\n"
     ]
    },
    {
     "data": {
      "image/png": "[encoded data removed]",
      "text/plain": [
       "<Figure size 432x288 with 1 Axes>"
      ]
     },
     "metadata": {
      "needs_background": "light"
     },
     "output_type": "display_data"
    },
    {
     "name": "stdout",
     "output_type": "stream",
     "text": [
      "a =  33.84698917665372 +- 37.12113813568784\n",
      "b =  -957.8034570731096 +- 1044.7802331922014\n",
      "COV =  -38783.12020817429\n",
      "[[ 1.37797890e+03 -3.87831202e+04  2.72738946e+05]\n",
      " [-3.87831202e+04  1.09156574e+06 -7.67646602e+06]\n",
      " [ 2.72738946e+05 -7.67646602e+06  5.39858405e+07]]\n"
     ]
    },
    {
     "data": {
      "image/png": "[encoded data removed]",
      "text/plain": [
       "<Figure size 432x288 with 1 Axes>"
      ]
     },
     "metadata": {
      "needs_background": "light"
     },
     "output_type": "display_data"
    },
    {
     "name": "stdout",
     "output_type": "stream",
     "text": [
      "a =  2194.2954117289596 +- 364.89929639478476\n",
      "b =  -30805.87170472203 +- 5133.828273832293\n",
      "COV =  -1873328.4755602134\n",
      "[[ 1.33151497e+05 -1.87332848e+06  6.58875901e+06]\n",
      " [-1.87332848e+06  2.63561927e+07 -9.26986095e+07]\n",
      " [ 6.58875901e+06 -9.26986095e+07  3.26035298e+08]]\n"
     ]
    },
    {
     "data": {
      "image/png": "[encoded data removed]",
      "text/plain": [
       "<Figure size 432x288 with 1 Axes>"
      ]
     },
     "metadata": {
      "needs_background": "light"
     },
     "output_type": "display_data"
    },
    {
     "name": "stdout",
     "output_type": "stream",
     "text": [
      "a =  3322.678280398481 +- 859.8842050151433\n",
      "b =  -69676.65739657456 +- 18019.415498933515\n",
      "COV =  -15494602.640770683\n",
      "[[ 7.39400846e+05 -1.54946026e+07  8.11724605e+07]\n",
      " [-1.54946026e+07  3.24699335e+08 -1.70102275e+09]\n",
      " [ 8.11724605e+07 -1.70102275e+09  8.91126384e+09]]\n"
     ]
    },
    {
     "data": {
      "image/png": "[encoded data removed]",
      "text/plain": [
       "<Figure size 432x288 with 1 Axes>"
      ]
     },
     "metadata": {
      "needs_background": "light"
     },
     "output_type": "display_data"
    },
    {
     "name": "stdout",
     "output_type": "stream",
     "text": [
      "a =  4150.8981421683175 +- 1682.7784547442996\n",
      "b =  -75115.20080285847 +- 30426.064439746053\n",
      "COV =  -51200282.21804577\n",
      "[[ 2.83174333e+06 -5.12002822e+07  2.31430140e+08]\n",
      " [-5.12002822e+07  9.25745397e+08 -4.18446424e+09]\n",
      " [ 2.31430140e+08 -4.18446424e+09  1.89142398e+10]]\n"
     ]
    },
    {
     "data": {
      "image/png": "[encoded data removed]",
      "text/plain": [
       "<Figure size 432x288 with 1 Axes>"
      ]
     },
     "metadata": {
      "needs_background": "light"
     },
     "output_type": "display_data"
    },
    {
     "name": "stdout",
     "output_type": "stream",
     "text": [
      "a =  946.870179082335 +- 548.9284385030958\n",
      "b =  -13296.334217111598 +- 7717.157762470969\n",
      "COV =  -4236160.896964393\n",
      "[[ 3.01322431e+05 -4.23616090e+06  1.48878741e+07]\n",
      " [-4.23616090e+06  5.95545239e+07 -2.09303418e+08]\n",
      " [ 1.48878741e+07 -2.09303418e+08  7.35595742e+08]]\n"
     ]
    },
    {
     "data": {
      "image/png": "[encoded data removed]",
      "text/plain": [
       "<Figure size 432x288 with 1 Axes>"
      ]
     },
     "metadata": {
      "needs_background": "light"
     },
     "output_type": "display_data"
    },
    {
     "name": "stdout",
     "output_type": "stream",
     "text": [
      "a =  1195.8317618342264 +- 405.51916556692896\n",
      "b =  -24262.944089588338 +- 8204.76626096025\n",
      "COV =  -3327188.336383236\n",
      "[[ 1.64445794e+05 -3.32718834e+06  1.68293084e+07]\n",
      " [-3.32718834e+06  6.73181894e+07 -3.40503623e+08]\n",
      " [ 1.68293084e+07 -3.40503623e+08  1.72231060e+09]]\n"
     ]
    }
   ],
   "source": [
    "ArrX = np.asarray(df1.iloc[:,8:12])\n",
    "ArrY = np.asarray(df1.iloc[:,3:7])\n",
    "ArrsX = ArrX*0.005\n",
    "ArrsY = ArrY*0.03\n",
    "\n",
    "Xmin = np.asarray([])\n",
    "sXmin = np.asarray([])\n",
    "\n",
    "def Parabola(x,a,b,c):\n",
    "    return a*x**2 + b*x +c\n",
    "def SigmaVertice(a,b,sa,sb,COV):\n",
    "    da = -b/(2*a**2) *sa\n",
    "    db = -1/(2*a) *sb\n",
    "    CORR = 1/(2*a**2) *COV\n",
    "    return np.sqrt(np.power(da,2) + np.power(db,2) + 2*CORR )\n",
    "\n",
    "for f in range(len(ArrX)):\n",
    "\n",
    "    X  = ArrX[f]\n",
    "    sX = ArrsX[f]\n",
    "    Y  = ArrY[f]\n",
    "    sY = ArrsY[f]\n",
    "    \n",
    "    x = np.linspace(np.min(X),np.max(X),100)\n",
    "    [a,b,c],pcov = s.optimize.curve_fit(Parabola,X,Y,sigma = sY,absolute_sigma = False)\n",
    "    [sa,sb,sc] = np.sqrt(np.diag(pcov))\n",
    "    plt.errorbar(X,Y,sY, ls='', marker='.',label = '{}'.format(f))\n",
    "    plt.plot(x,Parabola(x,a,b,c))\n",
    "    plt.legend()\n",
    "    plt.show()\n",
    "\n",
    "    Value = -b/(2*a)\n",
    "    sValue = SigmaVertice(a,b,sa,sb,1)\n",
    "    #print('Xmin = ',Value)\n",
    "    print('a = ',a,'+-',sa)\n",
    "    print('b = ',b,'+-',sb)\n",
    "    print('COV = ',pcov[0][1])\n",
    "    print(pcov)\n",
    "    Xmin = np.append(Xmin,Value)                         \n",
    "    sXmin = np.append(sXmin,sValue)\n",
    "\n",
    "Xmin =  np.abs(Xmin  - df1.iloc[:,7])\n",
    "\n",
    "#Xmin[2] = Xmin[2]+0.5\n",
    "Xmin[0] = Xmin[0]-0.5\n",
    "Xmin[3] = Xmin[3]-0.5\n",
    "Xmin[4] = Xmin[4]-0.5"
   ]
  },
  {
   "cell_type": "code",
   "execution_count": 36,
   "metadata": {},
   "outputs": [
    {
     "name": "stdout",
     "output_type": "stream",
     "text": [
      "2.609799193493849 +- 17.42439134670069\n",
      "3.2490199681428056 +- 21.8856795100986\n",
      "1.2604637356712356 +- 1.6522004214032788\n",
      "1.7050148278323185 +- 3.839149706987796\n",
      "1.2919350621158223 +- 5.184668026044223\n",
      "1.7187983510252343 +- 5.7589668974408745\n",
      "1.404798053169424 +- 4.864653911424123\n"
     ]
    },
    {
     "data": {
      "text/plain": [
       "-3335852.664474443"
      ]
     },
     "execution_count": 36,
     "metadata": {},
     "output_type": "execute_result"
    }
   ],
   "source": [
    "for u in range(len(Xmin)):\n",
    "    print(Xmin[u],'+-',sXmin[u])\n",
    "pcov[0][1]"
   ]
  },
  {
   "cell_type": "code",
   "execution_count": 39,
   "metadata": {},
   "outputs": [
    {
     "name": "stdout",
     "output_type": "stream",
     "text": [
      "0    612.628873\n",
      "1    762.680763\n",
      "2    591.767090\n",
      "3    800.476114\n",
      "4    745.748088\n",
      "5    661.432182\n",
      "6    540.598136\n",
      "Name:  x0[mm], dtype: float64\n",
      "Lambda = 673.6187495593161  +-  21.70774694390639\n"
     ]
    }
   ],
   "source": [
    "Z = 852     # mm \n",
    "sZ  = 2\n",
    "sXmin = np.asarray([0.4,0.4,0.06,0.08,0.08,0.06,0.06])\n",
    "\n",
    "Array_L  = Lambda(Xmin,Z,F,m)\n",
    "Array_sL = SigmaLambda(Xmin,sXmin,Z,sZ,F,sF)\n",
    "L = np.sum(Array_L)/len(Array_L)\n",
    "sL = my.sqrt_sum(Array_sL)/len(Array_sL)\n",
    "#sL = 1\n",
    "print(Array_L)\n",
    "print('Lambda =',L,' +- ',sL)"
   ]
  },
  {
   "cell_type": "code",
   "execution_count": null,
   "metadata": {},
   "outputs": [],
   "source": []
  },
  {
   "cell_type": "code",
   "execution_count": null,
   "metadata": {},
   "outputs": [],
   "source": []
  }
 ],
 "metadata": {
  "kernelspec": {
   "display_name": "Python 3",
   "language": "python",
   "name": "python3"
  },
  "language_info": {
   "codemirror_mode": {
    "name": "ipython",
    "version": 3
   },
   "file_extension": ".py",
   "mimetype": "text/x-python",
   "name": "python",
   "nbconvert_exporter": "python",
   "pygments_lexer": "ipython3",
   "version": "3.8.5"
  }
 },
 "nbformat": 4,
 "nbformat_minor": 4
}
