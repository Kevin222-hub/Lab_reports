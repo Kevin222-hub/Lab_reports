{
 "cells": [
  {
   "cell_type": "code",
   "execution_count": 18,
   "metadata": {},
   "outputs": [],
   "source": [
    "import my_lib as my\n",
    "import matplotlib.pyplot as plt\n",
    "import numpy as np\n",
    "import scipy as s\n",
    "import pandas as pd\n",
    "from scipy import stats\n",
    "from math import log10, floor,pi,sqrt,tan\n",
    "\n",
    "m=0.001\n",
    "u=0.000001\n",
    "n=0.000000001\n",
    "p=0.000000000001\n",
    "k=1000\n",
    "M=1000000\n",
    "G=1000000000\n",
    "T=1000000000000\n",
    "\n",
    "sigma_relativa = 0.005604276831073769\n",
    "\n",
    "def sigma_Intensity2V(Int):\n",
    "    A = sigma_relativa*Int\n",
    "    B = 0.0005*Int\n",
    "    C = 3\n",
    "    return np.sqrt(np.power(A,2) + np.power(B,2) + np.power(C,2) )"
   ]
  },
  {
   "cell_type": "code",
   "execution_count": 19,
   "metadata": {},
   "outputs": [],
   "source": [
    "df1   = pd.read_csv('data1Manipolato.csv')\n",
    "m     = np.asarray(df1.iloc[:,0]) # m del minimo\n",
    "F     = np.asarray(df1.iloc[:,1]) #fenditura"
   ]
  },
  {
   "cell_type": "code",
   "execution_count": 37,
   "metadata": {},
   "outputs": [
    {
     "name": "stdout",
     "output_type": "stream",
     "text": [
      "\\begin{tabular}{lrrrrrrrrrrrrrrrrrrrrrr}\n",
      "\\toprule\n",
      "{} &     m &    d &  Imax &  sigma Imax &   I1 &  sigma I1 &   I2 &  sigma I2 &   I3 &  sigma I3 &   I4 &  sigma I4 &   Xmax &  sigma Xmax &     X1 &  sigma X1 &     X2 &  sigma X2 &     X3 &  sigma X3 &     X4 &  sigma X4 \\\\\n",
      "\\midrule\n",
      "0 &  1.00 &  0.2 &  6400 &   36.134587 &   55 &  3.015919 &   47 &  3.011633 &   55 &  3.015919 &   57 &  3.017094 &  10.90 &        0.01 &   8.89 &     0.005 &   8.84 &     0.005 &   7.63 &     0.005 &   7.50 &     0.005 \\\\\n",
      "1 &  1.00 &  0.2 &  6400 &   36.134587 &   31 &  3.005066 &   27 &  3.003844 &   24 &  3.003038 &   28 &  3.004134 &  10.90 &        0.01 &  13.67 &     0.005 &  13.84 &     0.005 &  14.40 &     0.005 &  14.42 &     0.005 \\\\\n",
      "2 &  1.00 &  0.4 &  7280 &   41.070903 &   70 &  3.025744 &   68 &  3.024299 &   72 &  3.027229 &   78 &  3.031931 &   8.28 &        0.01 &   6.98 &     0.005 &   7.00 &     0.005 &   7.07 &     0.005 &   7.09 &     0.005 \\\\\n",
      "3 &  1.00 &  0.4 &  7280 &   41.070903 &  165 &  3.140364 &  154 &  3.122627 &  152 &  3.119523 &  158 &  3.128947 &   8.28 &        0.01 &   9.91 &     0.005 &   9.94 &     0.005 &  10.03 &     0.005 &  10.04 &     0.005 \\\\\n",
      "4 &  1.22 &  0.6 &  8020 &   45.224440 &   71 &  3.026481 &   68 &  3.024299 &   76 &  3.030323 &   82 &  3.035271 &  10.84 &        0.01 &   9.59 &     0.005 &   9.51 &     0.005 &   9.50 &     0.005 &   9.48 &     0.005 \\\\\n",
      "5 &  1.22 &  0.4 &  8850 &   49.885142 &   46 &  3.011144 &   44 &  3.010198 &   42 &  3.009293 &   45 &  3.010666 &   8.74 &        0.01 &   7.09 &     0.005 &   7.06 &     0.005 &   6.99 &     0.005 &   6.97 &     0.005 \\\\\n",
      "6 &  1.22 &  0.4 &  8850 &   49.885142 &  122 &  3.077531 &  121 &  3.076281 &  124 &  3.080060 &  128 &  3.085236 &   8.74 &        0.01 &  10.16 &     0.005 &  10.15 &     0.005 &  10.10 &     0.005 &  10.07 &     0.005 \\\\\n",
      "\\bottomrule\n",
      "\\end{tabular}\n",
      "\n"
     ]
    }
   ],
   "source": [
    "# Lettura 1\n",
    "\n",
    "df1   = pd.read_csv('data1Manipolato.csv')\n",
    "m     = np.asarray(df1.iloc[:,0]) # m del minimo\n",
    "F     = np.asarray(df1.iloc[:,1]) #fenditura\n",
    "\n",
    "Imax   = np.asarray(df1.iloc[:,2])\n",
    "sImax  = sigma_Intensity2V(Imax)\n",
    "\n",
    "I1   = np.asarray(df1.iloc[:,3])\n",
    "sI1  = sigma_Intensity2V(I1)\n",
    "\n",
    "I2   = np.asarray(df1.iloc[:,4])\n",
    "sI2  = sigma_Intensity2V(I2)\n",
    "I3   = np.asarray(df1.iloc[:,5])\n",
    "sI3  = sigma_Intensity2V(I3)\n",
    "I4   = np.asarray(df1.iloc[:,6])\n",
    "sI4  = sigma_Intensity2V(I4)\n",
    "\n",
    "Xmax   = np.asarray(df1.iloc[:,7])\n",
    "sXmax = np.full(len(Xmax),0.01)\n",
    "\n",
    "X1   = np.asarray(df1.iloc[:,8])\n",
    "sX1 = np.full(len(X1),0.005)\n",
    "X2   = np.asarray(df1.iloc[:,9])\n",
    "sX2 = np.full(len(X2),0.005)\n",
    "X3   = np.asarray(df1.iloc[:,10])\n",
    "sX3 = np.full(len(X3),0.005)\n",
    "X4   = np.asarray(df1.iloc[:,11])\n",
    "sX4 = np.full(len(X4),0.005)\n",
    "\n",
    "Tab1 = pd.DataFrame({\"m\":m,\"d\":F, \"Imax\":Imax,\"sigma Imax\":sImax,\"I1\":I1,\"sigma I1\":sI1,\"I2\":I2,\"sigma I2\":sI2,\"I3\":I3,\"sigma I3\":sI3,\"I4\":I4,\"sigma I4\":sI4, \"Xmax\":Xmax,\"sigma Xmax\":sXmax,\"X1\":X1,\"sigma X1\":sX1,\"X2\":X2,\"sigma X2\":sX2,\"X3\":X3,\"sigma X3\":sX3,\"X4\":X4,\"sigma X4\":sX4})\n",
    "print(Tab1.to_latex())"
   ]
  },
  {
   "cell_type": "code",
   "execution_count": 24,
   "metadata": {},
   "outputs": [],
   "source": [
    "# Lettura 2\n",
    "df2 = pd.read_csv('data2.csv')\n",
    "xmis  = np.asarray(df2.iloc[:,0])\n",
    "Imis  = np.asarray(df2.iloc[:,1])\n",
    "\n",
    "sxmis = np.full(len(xmis),0.005) # sigma a caso\n",
    "sImis = sigma_Intensity2V(Imis)\n",
    "\n",
    "Tab2 = pd.DataFrame({\"Xmis\":xmis,\"sigma X\":sxmis, \"Imis\":Imis,\"sigma I\":sImis})\n",
    "#print(Tab2.to_latex())"
   ]
  },
  {
   "cell_type": "code",
   "execution_count": 26,
   "metadata": {},
   "outputs": [],
   "source": [
    "#Parte 3 foto\n",
    "df3 = pd.read_csv('data3.csv')\n",
    "m  = np.asarray(df3.iloc[:,0])\n",
    "Min  = np.asarray(df3.iloc[:,1]) #in mm\n",
    "sMin = np.full(len(Min),1)      #in m\n",
    "TabFoto = pd.DataFrame({\"m\":m,\"X min\":Min, \"sigma min \":sMin})\n",
    "#print(TabFoto.to_latex())"
   ]
  },
  {
   "cell_type": "code",
   "execution_count": 29,
   "metadata": {},
   "outputs": [],
   "source": [
    "#Parte 3 Oscilloscopio\n",
    "\n",
    "df4 = pd.read_csv('data3Oscilloscopio.csv')\n",
    "xmis  = np.asarray(df4.iloc[:,0])\n",
    "sxmis = np.full(len(xmis),0.005)\n",
    "Imis  = np.asarray(df4.iloc[:,1])\n",
    "AAA = sigma_Intensity2V(Imis)\n",
    "Tab3 = pd.DataFrame({\"Xmis\":xmis,\"sigma X\":sxmis, \"Imis\":Imis, \"sigma I\":AAA})\n",
    "#print(Tab3.to_latex())"
   ]
  },
  {
   "cell_type": "code",
   "execution_count": null,
   "metadata": {},
   "outputs": [],
   "source": []
  }
 ],
 "metadata": {
  "kernelspec": {
   "display_name": "Python 3",
   "language": "python",
   "name": "python3"
  },
  "language_info": {
   "codemirror_mode": {
    "name": "ipython",
    "version": 3
   },
   "file_extension": ".py",
   "mimetype": "text/x-python",
   "name": "python",
   "nbconvert_exporter": "python",
   "pygments_lexer": "ipython3",
   "version": "3.8.5"
  }
 },
 "nbformat": 4,
 "nbformat_minor": 4
}
