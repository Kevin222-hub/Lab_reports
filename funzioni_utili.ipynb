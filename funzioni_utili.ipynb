{
 "cells": [
  {
   "cell_type": "code",
   "execution_count": 281,
   "metadata": {},
   "outputs": [],
   "source": [
    "import numpy as np\n",
    "import matplotlib as mt\n",
    "import matplotlib.pyplot as plt\n",
    "import sklearn.decomposition as dec\n",
    "import sklearn.model_selection as sel\n",
    "import sklearn.manifold as mnf\n",
    "import sklearn.naive_bayes as nb\n",
    "import sklearn.neighbors as ngb\n",
    "import sklearn.tree as tr\n",
    "import sklearn.ensemble as ens\n",
    "import sklearn.cluster as cl\n",
    "import sklearn.mixture as mx\n",
    "import sklearn.metrics as mtx\n",
    "import umap"
   ]
  },
  {
   "cell_type": "markdown",
   "metadata": {},
   "source": [
    "# Formule utili: #"
   ]
  },
  {
   "cell_type": "markdown",
   "metadata": {},
   "source": [
    "## Generazione dati ##\n",
    "\n",
    "Le funzioni che conosciamo per generare i dati sono 3:\n",
    "1. **funzione generazione [gaussiana](https://numpy.org/doc/stable/reference/random/generated/numpy.random.multivariate_normal.html)**\n",
    "2. **funzione generazione [uniforme](https://numpy.org/doc/stable/reference/random/generated/numpy.random.uniform.html)**\n",
    "3. **funzione a [griglia](https://numpy.org/doc/stable/reference/generated/numpy.meshgrid.html)**"
   ]
  },
  {
   "cell_type": "markdown",
   "metadata": {},
   "source": [
    "#### 1. Funzione gaussiana ####\n",
    "Prende in input un array con i valori medi sulle varie dimensioni e la matrice di covarianza. Se al posto di una matrice di covarianza gli si da un array lo trasforma in una matrice di covarianza diagonale (dati scorrelati).  \n",
    "N rappresenta quanti punti sampla"
   ]
  },
  {
   "cell_type": "code",
   "execution_count": 282,
   "metadata": {},
   "outputs": [],
   "source": [
    "\n",
    "def gaussian(mu=0.,sigma=1.,N=1):\n",
    "    if hasattr(mu, \"__len__\"):\n",
    "        D=len(mu)\n",
    "    else:\n",
    "        mu=np.array([mu])\n",
    "        D=1\n",
    "    if not hasattr(sigma,\"__len__\"):\n",
    "        sigma=np.array([sigma])\n",
    "    \n",
    "    if type(mu) is not np.ndarray:\n",
    "        mu=np.array(mu)\n",
    "    if type(sigma) is not np.ndarray:\n",
    "        sigma=np.array(sigma)\n",
    "    if sigma.size==D:\n",
    "        sigma=np.diag(sigma)\n",
    "    \n",
    "    return np.random.multivariate_normal(mu,sigma**2,N)\n"
   ]
  },
  {
   "cell_type": "markdown",
   "metadata": {},
   "source": []
  },
  {
   "cell_type": "markdown",
   "metadata": {},
   "source": [
    "#### 2. Funzione uniforme ####\n",
    "Prende in input due liste con i minimi sulle diverse dimensioni ed una con i massimi.  \n",
    "N rappresenta quanti punti sampla"
   ]
  },
  {
   "cell_type": "code",
   "execution_count": 283,
   "metadata": {},
   "outputs": [],
   "source": [
    "def uniform(mins=0.,maxs=1.,N=1):\n",
    "    if hasattr(mins, \"__len__\"):\n",
    "        D=len(mins)\n",
    "        return np.random.uniform(mins,maxs,size=(N,D))\n",
    "    else:\n",
    "        D=1\n",
    "        return np.random.uniform(mins,maxs,size=(N,D)).T[0]"
   ]
  },
  {
   "cell_type": "markdown",
   "metadata": {},
   "source": [
    "#### 3. Funzione a griglia ####\n",
    "Prende in input due liste con i minimi sulle diverse dimensioni ed una con i massimi.  \n",
    "Poi e' presente un flag per segnare se *dn* indica in quante parti dividere gli intervalli oppure la distanza tra i punti"
   ]
  },
  {
   "cell_type": "code",
   "execution_count": 284,
   "metadata": {},
   "outputs": [],
   "source": [
    "def grid(min, max,dn, ndivisions=True):\n",
    "    xD=[]\n",
    "    for i in range(len(min)):\n",
    "        if ndivisions:\n",
    "            xD.append(np.linspace(min[i],max[i],dn))\n",
    "        else:\n",
    "            xD.append(np.arange(min[i],max[i],dn))\n",
    "    xD=tuple(xD)\n",
    "    return np.meshgrid(*xD)\n"
   ]
  },
  {
   "cell_type": "markdown",
   "metadata": {},
   "source": [
    "## \n",
    "---\n",
    "Dati utili per dimostrare il funzionamento delle funzioni"
   ]
  },
  {
   "cell_type": "code",
   "execution_count": 285,
   "metadata": {},
   "outputs": [
    {
     "name": "stderr",
     "output_type": "stream",
     "text": [
      "/tmp/ipykernel_121389/1505875170.py:17: RuntimeWarning: covariance is not positive-semidefinite.\n",
      "  return np.random.multivariate_normal(mu,sigma**2,N)\n"
     ]
    }
   ],
   "source": [
    "n_feautures1=2\n",
    "n_feautures0=30\n",
    "mu=uniform(-1,1,n_feautures0)\n",
    "sigma=uniform(0,5,n_feautures0)\n",
    "sigma=np.diag(sigma)\n",
    "sigma[n_feautures0//2][n_feautures0//3]=1.\n",
    "sigma[n_feautures0//3][n_feautures0//2]=1.\n",
    "sigma[n_feautures0//2][n_feautures0//4]=3.\n",
    "sigma[n_feautures0//4][n_feautures0//2]=3.\n",
    "sigma[n_feautures0//5][n_feautures0//6]=2.5\n",
    "sigma[n_feautures0//6][n_feautures0//5]=2.5\n",
    "DATA=gaussian(mu,sigma,N=20000)\n",
    "LABEL=np.random.randint(0,5,size=20000)\n",
    "REGR=np.sin(np.array([np.sum(DATA,axis=1),np.sum(-DATA*2,axis=1)]).T)"
   ]
  },
  {
   "cell_type": "markdown",
   "metadata": {},
   "source": [
    "## \n",
    "---"
   ]
  },
  {
   "cell_type": "markdown",
   "metadata": {},
   "source": [
    "## Manipolazione dati"
   ]
  },
  {
   "cell_type": "markdown",
   "metadata": {},
   "source": [
    "#### [Dividere tra train,validation e test](https://scikit-learn.org/stable/modules/generated/sklearn.model_selection.train_test_split.html):\n",
    "Questo serve per dividere il sample i parti che posso usare per scegliere gli iperparametri o valutare la bonta' del mio apprendimento"
   ]
  },
  {
   "cell_type": "code",
   "execution_count": 286,
   "metadata": {},
   "outputs": [],
   "source": [
    "train,test,LABtrain,LABtest=sel.train_test_split(DATA,LABEL,test_size=0.3,shuffle=True) #test 30% train 70%"
   ]
  },
  {
   "cell_type": "markdown",
   "metadata": {},
   "source": [
    "#### Iportanza delle feautures\n",
    "Se si vuole conoscere l'importanza delle feautures e quantificare una incertezza si puo' utilizzare la `RandomForest` *(vedi  `\"Apprendimento supervisionato->Classificazione->RandomForest\"`)*\n"
   ]
  },
  {
   "cell_type": "markdown",
   "metadata": {},
   "source": [
    "## Riduzione dimensionale ##\n",
    "\n",
    "Le funzioni che conosciamo per ridurre le dimensioni di un problema sono 3:\n",
    "\n",
    "1. **funzione [PCA](https://scikit-learn.org/stable/modules/generated/sklearn.decomposition.PCA.html)**\n",
    "2. **funzione [tSNE](https://scikit-learn.org/stable/modules/generated/sklearn.manifold.TSNE.html)**\n",
    "3. **funzione [UMAP](https://umap-learn.readthedocs.io/en/latest/parameters.html)**"
   ]
  },
  {
   "cell_type": "markdown",
   "metadata": {},
   "source": [
    "#### 1. Funzione PCA ####\n",
    "Questa funzione permette fissato il numero di features che si vogliono considerare.  \n",
    "E' lineare ed e' invertibile infatti si puo' ottenere anche la matrice di rotazione  \n",
    ">**NB.**  \n",
    ">**prima di utilizzarla e' bene normalizzare i dati con:**  \n",
    ">`(DATA-DATA.mean())/DATA.std()`"
   ]
  },
  {
   "cell_type": "code",
   "execution_count": 287,
   "metadata": {},
   "outputs": [],
   "source": [
    "redModel=dec.PCA(n_components=n_feautures1)\n",
    "redModel.fit(DATA)\n",
    "DATAred=redModel.transform(DATA)"
   ]
  },
  {
   "cell_type": "code",
   "execution_count": 288,
   "metadata": {},
   "outputs": [
    {
     "name": "stdout",
     "output_type": "stream",
     "text": [
      "[7.32808288 7.14952737]\n"
     ]
    },
    {
     "data": {
      "text/plain": [
       "Text(0.5, 1.0, 'PCA reduction')"
      ]
     },
     "execution_count": 288,
     "metadata": {},
     "output_type": "execute_result"
    },
    {
     "data": {
      "image/png": "[encoded data removed]",
      "text/plain": [
       "<Figure size 432x288 with 1 Axes>"
      ]
     },
     "metadata": {
      "needs_background": "light"
     },
     "output_type": "display_data"
    }
   ],
   "source": [
    "print(redModel.explained_variance_ratio_*100)\n",
    "DATAred=DATAred.T\n",
    "plt.plot(DATAred[0],DATAred[1],ls=\"\",marker=\".\")\n",
    "plt.xlabel(r\"$PCA_0$\")\n",
    "plt.ylabel(r\"$PCA_1$\")\n",
    "plt.title(\"PCA reduction\")"
   ]
  },
  {
   "cell_type": "markdown",
   "metadata": {},
   "source": [
    "> Altre possibili cose utili per il PCA sono:  \n",
    ">- modi per valutare lo score:  \n",
    ">   - `redModel.explained_variance_` che ti dice quanta varianza spiegano le tue nuove feautures  \n",
    ">   - `redModel.explained_variance_ratio_`  che ti dice in che percentuale di varianza spiegano\n",
    ">- altre robe:\n",
    ">   - `redModel.inverse_transform(DATAred)` che dalle variabili ridotte ti restituisce le feautures originali"
   ]
  },
  {
   "cell_type": "markdown",
   "metadata": {},
   "source": [
    "#### 2. Funzione tSNE ####\n",
    "Questa funzione permette fissato il numero di features che si vogliono considerare.  \n",
    "Non e' lineare  \n",
    ">**NB.**  \n",
    ">**Questa funzione e' molto lenta se il dataset e' ampio**\n",
    "\n",
    ">Sono presenti inoltre due parametri da scegliere e che bisonga provare:\n",
    ">- `perplexity` tra 5 e 50 circa, bisogna scegliere quella che fornisce la migliore rappresentazione\n",
    ">- `n_iter` almeno 250 raccomandato, il prof. ha messo 300"
   ]
  },
  {
   "cell_type": "code",
   "execution_count": 289,
   "metadata": {},
   "outputs": [
    {
     "name": "stderr",
     "output_type": "stream",
     "text": [
      "/home/giuly/anaconda3/envs/ML/lib/python3.9/site-packages/sklearn/manifold/_t_sne.py:780: FutureWarning: The default initialization in TSNE will change from 'random' to 'pca' in 1.2.\n",
      "  warnings.warn(\n",
      "/home/giuly/anaconda3/envs/ML/lib/python3.9/site-packages/sklearn/manifold/_t_sne.py:790: FutureWarning: The default learning rate in TSNE will change from 200.0 to 'auto' in 1.2.\n",
      "  warnings.warn(\n"
     ]
    }
   ],
   "source": [
    "per=40 #perplexity\n",
    "ni=300 #n_iterations\n",
    "redModel=mnf.TSNE(n_components=n_feautures1,perplexity=per,n_iter=ni)\n",
    "DATAred=redModel.fit_transform(DATA) #non esiste il transform da solo, ma esiste il fit da solo"
   ]
  },
  {
   "cell_type": "code",
   "execution_count": 290,
   "metadata": {},
   "outputs": [
    {
     "data": {
      "text/plain": [
       "Text(0.5, 1.0, 'tSNE reduction')"
      ]
     },
     "execution_count": 290,
     "metadata": {},
     "output_type": "execute_result"
    },
    {
     "data": {
      "image/png": "[encoded data removed]",
      "text/plain": [
       "<Figure size 432x288 with 1 Axes>"
      ]
     },
     "metadata": {
      "needs_background": "light"
     },
     "output_type": "display_data"
    }
   ],
   "source": [
    "DATAred=DATAred.T\n",
    "plt.plot(DATAred[0],DATAred[1],ls=\"\",marker=\".\")\n",
    "plt.xlabel(r\"$tSNE_0$\")\n",
    "plt.ylabel(r\"$tSNE_1$\")\n",
    "plt.title(\"tSNE reduction\")"
   ]
  },
  {
   "cell_type": "markdown",
   "metadata": {},
   "source": [
    "#### 3. Funzione UMAP ####\n",
    "Questa funzione dovrebbe mantenere la struttura globale e locale del mainfold. Non e' lineare."
   ]
  },
  {
   "cell_type": "code",
   "execution_count": 291,
   "metadata": {},
   "outputs": [],
   "source": [
    "redModel=umap.UMAP()\n",
    "redModel.fit(DATA,LABEL)\n",
    "DATAred=redModel.transform(DATA)\n"
   ]
  },
  {
   "cell_type": "code",
   "execution_count": 292,
   "metadata": {},
   "outputs": [
    {
     "data": {
      "text/plain": [
       "[<matplotlib.lines.Line2D at 0x7f8d7a2e5ee0>]"
      ]
     },
     "execution_count": 292,
     "metadata": {},
     "output_type": "execute_result"
    },
    {
     "data": {
      "image/png": "[encoded data removed]",
      "text/plain": [
       "<Figure size 432x288 with 1 Axes>"
      ]
     },
     "metadata": {
      "needs_background": "light"
     },
     "output_type": "display_data"
    }
   ],
   "source": [
    "DATAred=DATAred.T\n",
    "plt.title(\"UMAP reduction\")\n",
    "plt.xlabel('$UMAP_0$')\n",
    "plt.ylabel('$UMAP_1$')\n",
    "plt.plot(DATAred[0],DATAred[1],ls=\"\",marker=\".\")"
   ]
  },
  {
   "cell_type": "markdown",
   "metadata": {},
   "source": [
    "## Apprendimento supervisionato ##\n"
   ]
  },
  {
   "cell_type": "markdown",
   "metadata": {},
   "source": [
    "### Classificazione: ###\n",
    "Gli algoritmi che conosciamo per la classificazione sono 4:\n",
    "1. **metodo [Naive-Bayes](https://scikit-learn.org/stable/modules/naive_bayes.html) in particolare con dati distribuiti gaussianamente, quindi [GaussianNB](https://scikit-learn.org/stable/modules/generated/sklearn.naive_bayes.GaussianNB.html#sklearn.naive_bayes.GaussianNB)**\n",
    "2. **funzione [k-NN](https://scikit-learn.org/stable/modules/generated/sklearn.neighbors.KNeighborsClassifier.html)**\n",
    "3. **funzione [DecisionTree](https://scikit-learn.org/stable/modules/generated/sklearn.tree.DecisionTreeClassifier.html#sklearn.tree.DecisionTreeClassifier)**\n",
    "4. **funzione [RandomForest](https://scikit-learn.org/stable/modules/generated/sklearn.ensemble.RandomForestClassifier.html)**\n",
    "\n",
    "> Lo `score` di questi modelli e' l'accuracy\n",
    "\n",
    "> Per valutare quanto il modello e' buono nella predizione si puo' utilizzare `predict` e poi analizzare la `confusion_matrix`"
   ]
  },
  {
   "cell_type": "markdown",
   "metadata": {},
   "source": [
    "#### 1. GaussianNB\n",
    "Questo algoritmo lo abbiamo usato senza parametri ed e molto buono, \n",
    ">**NB.**  \n",
    ">**Non funziona se le variabili sono correlate, inoltre puo' risultare lento.**"
   ]
  },
  {
   "cell_type": "code",
   "execution_count": 293,
   "metadata": {},
   "outputs": [
    {
     "data": {
      "text/plain": [
       "GaussianNB()"
      ]
     },
     "execution_count": 293,
     "metadata": {},
     "output_type": "execute_result"
    }
   ],
   "source": [
    "model=nb.GaussianNB()\n",
    "model.fit(DATA,LABEL)\n",
    "\n"
   ]
  },
  {
   "cell_type": "code",
   "execution_count": 294,
   "metadata": {},
   "outputs": [
    {
     "name": "stdout",
     "output_type": "stream",
     "text": [
      "0.22745\n"
     ]
    },
    {
     "ename": "TypeError",
     "evalue": "confusion_matrix() got an unexpected keyword argument 'predictnormalize'",
     "output_type": "error",
     "traceback": [
      "\u001b[0;31m---------------------------------------------------------------------------\u001b[0m",
      "\u001b[0;31mTypeError\u001b[0m                                 Traceback (most recent call last)",
      "\u001b[1;32m/home/giuly/Desktop/MACHINE LEARNING ES/funzioni_utili.ipynb Cell 33'\u001b[0m in \u001b[0;36m<cell line: 3>\u001b[0;34m()\u001b[0m\n\u001b[1;32m      <a href='vscode-notebook-cell:/home/giuly/Desktop/MACHINE%20LEARNING%20ES/funzioni_utili.ipynb#ch0000073?line=0'>1</a>\u001b[0m \u001b[39mprint\u001b[39m(model\u001b[39m.\u001b[39mscore(DATA,LABEL))\n\u001b[1;32m      <a href='vscode-notebook-cell:/home/giuly/Desktop/MACHINE%20LEARNING%20ES/funzioni_utili.ipynb#ch0000073?line=1'>2</a>\u001b[0m predict\u001b[39m=\u001b[39mmodel\u001b[39m.\u001b[39mpredict(DATA)\n\u001b[0;32m----> <a href='vscode-notebook-cell:/home/giuly/Desktop/MACHINE%20LEARNING%20ES/funzioni_utili.ipynb#ch0000073?line=2'>3</a>\u001b[0m \u001b[39mprint\u001b[39m(mtx\u001b[39m.\u001b[39;49mconfusion_matrix(LABEL,predictnormalize\u001b[39m=\u001b[39;49m\u001b[39m'\u001b[39;49m\u001b[39mtrue\u001b[39;49m\u001b[39m'\u001b[39;49m))\n",
      "\u001b[0;31mTypeError\u001b[0m: confusion_matrix() got an unexpected keyword argument 'predictnormalize'"
     ]
    }
   ],
   "source": [
    "print(model.score(DATA,LABEL))\n",
    "predict=model.predict(DATA)\n",
    "print(mtx.confusion_matrix(LABEL,predictnormalize='true'))"
   ]
  },
  {
   "cell_type": "markdown",
   "metadata": {},
   "source": [
    "#### 2. k-NN\n",
    "Questo algoritmo e' veloce e esiste nella versione di regressione\n",
    "> E' presente un iperparametro da scegliere e che bisonga provare:\n",
    ">- `k` tra 1 e 50 circa, e' il numero dei primi vicini di cui controlla il label quando allena il modello. Un `k` basso e' sensibile agli outlayers mentre un `k` alto e' lento e rischia di non essere efficace."
   ]
  },
  {
   "cell_type": "code",
   "execution_count": null,
   "metadata": {},
   "outputs": [
    {
     "data": {
      "text/plain": [
       "KNeighborsClassifier(n_neighbors=10)"
      ]
     },
     "execution_count": 250,
     "metadata": {},
     "output_type": "execute_result"
    }
   ],
   "source": [
    "k=10\n",
    "model=ngb.KNeighborsClassifier(k)\n",
    "model.fit(DATA,LABEL)"
   ]
  },
  {
   "cell_type": "code",
   "execution_count": null,
   "metadata": {},
   "outputs": [
    {
     "name": "stdout",
     "output_type": "stream",
     "text": [
      "0.37285\n",
      "[[0.35543175 0.15914578 0.16898793 0.15766017 0.15877437]\n",
      " [0.13637314 0.36916963 0.16230914 0.16921146 0.16293662]\n",
      " [0.14004848 0.13735524 0.37355238 0.17532992 0.17371398]\n",
      " [0.14436519 0.14807418 0.15378031 0.37489301 0.1788873 ]\n",
      " [0.14984709 0.14411315 0.14908257 0.14525994 0.41169725]]\n"
     ]
    }
   ],
   "source": [
    "print(model.score(DATA,LABEL))\n",
    "predict=model.predict(DATA)\n",
    "print(mtx.confusion_matrix(LABEL,predictnormalize='true'))"
   ]
  },
  {
   "cell_type": "markdown",
   "metadata": {},
   "source": [
    "#### 3. DecisionTree\n",
    "Questo algoritmo e' veloce e esiste nella versione di regressione\n",
    "> E' presente un iperparametro da scegliere e che bisonga provare:\n",
    ">- `max_depth` tra 1 e 10 circa, e' la profondita' dell'albero. Un `max_deph` basso e' non rende il modello significativo mentre se e' troppo alto overfitta."
   ]
  },
  {
   "cell_type": "code",
   "execution_count": null,
   "metadata": {},
   "outputs": [
    {
     "data": {
      "text/plain": [
       "DecisionTreeClassifier(max_depth=5)"
      ]
     },
     "execution_count": 252,
     "metadata": {},
     "output_type": "execute_result"
    }
   ],
   "source": [
    "mxDPH=5\n",
    "model=tr.DecisionTreeClassifier(max_depth=mxDPH)\n",
    "model.fit(DATA,LABEL)"
   ]
  },
  {
   "cell_type": "code",
   "execution_count": null,
   "metadata": {},
   "outputs": [
    {
     "name": "stdout",
     "output_type": "stream",
     "text": [
      "0.2114\n",
      "[[0.20464272 0.1988069  0.19459214 0.20114123 0.20081701]\n",
      " [0.18571429 0.34285714 0.18928571 0.12857143 0.15357143]\n",
      " [0.17736033 0.2063918  0.22102952 0.20029275 0.19492559]\n",
      " [0.17391304 0.10869565 0.10869565 0.58695652 0.02173913]\n",
      " [0.26797386 0.09803922 0.24183007 0.11111111 0.28104575]]\n"
     ]
    }
   ],
   "source": [
    "print(model.score(DATA,LABEL))\n",
    "predict=model.predict(DATA)\n",
    "print(mtx.confusion_matrix(LABEL,predictnormalize='true'))"
   ]
  },
  {
   "cell_type": "markdown",
   "metadata": {},
   "source": [
    "#### 4. RandomForest\n",
    "Questo algoritmo consiste in un ensamble di altri modelli, nel caso specifico di (e come lo abbiamo utilizzato noi) di alberi. Il risultato si tratta di una media di diversi alberi. Esiste nella versione di regressione\n",
    "> Sono presenti 3 iperparametri da scegliere e che bisonga provare:\n",
    ">- `max_depth` e' la massima profondita' degli alberi che costituiscono la foresta\n",
    ">- `min_samples_split` governa il numero di campioni necessari per procedere ad uno split di un nodo: più alto è il numero minore sarà la segmentazione e le diramazioni dell'albero\n",
    ">- `n_estimators` e' il numero degli alberi nella foresta"
   ]
  },
  {
   "cell_type": "code",
   "execution_count": 327,
   "metadata": {},
   "outputs": [
    {
     "name": "stderr",
     "output_type": "stream",
     "text": [
      "/home/giuly/anaconda3/envs/ML/lib/python3.9/site-packages/sklearn/ensemble/_forest.py:560: UserWarning: Some inputs do not have OOB scores. This probably means too few trees were used to compute any reliable OOB estimates.\n",
      "  warn(\n"
     ]
    },
    {
     "data": {
      "text/plain": [
       "RandomForestClassifier(max_depth=5, min_samples_split=10, n_estimators=30,\n",
       "                       oob_score=True, warm_start=True)"
      ]
     },
     "execution_count": 327,
     "metadata": {},
     "output_type": "execute_result"
    }
   ],
   "source": [
    "nTree=30\n",
    "leafsz=10\n",
    "mxDPH=5\n",
    "model=ens.RandomForestClassifier(n_estimators=nTree,\n",
    "                                min_samples_split=leafsz,\n",
    "                                max_depth=mxDPH,\n",
    "                                oob_score=True,\n",
    "                                warm_start=True)\n",
    "model.fit(DATA,LABEL)\n"
   ]
  },
  {
   "cell_type": "code",
   "execution_count": 329,
   "metadata": {},
   "outputs": [
    {
     "name": "stdout",
     "output_type": "stream",
     "text": [
      "0.2919\n",
      "0.20005\n",
      "[[0.45794393 0.05459911 0.33817019 0.06689621 0.08239056]\n",
      " [0.33062262 0.15628971 0.35247776 0.06175349 0.09885642]\n",
      " [0.28897618 0.05548736 0.49275718 0.06432605 0.09845323]\n",
      " [0.32422172 0.06150342 0.38116932 0.13211845 0.10098709]\n",
      " [0.32679245 0.05534591 0.34264151 0.06591195 0.20930818]]\n"
     ]
    }
   ],
   "source": [
    "print(model.score(DATA,LABEL))\n",
    "print(model.oob_score_)\n",
    "predict=model.predict(DATA)\n",
    "print(mtx.confusion_matrix(LABEL,predict,normalize='true'))"
   ]
  },
  {
   "cell_type": "markdown",
   "metadata": {},
   "source": [
    "> Altre possibili cose utili per la RandomForest sono:  \n",
    ">- modi per valutare lo score:  \n",
    ">   - `model.oob_score_` va a calcolare la media dello score dei vari alberi, ma utilizzando per ogni albero una parte di dati che non ha utilizzato per trainalo. Questa metrica e' accessibile soltanto se si chiama la Forest con il parametro `oob_score` impostato su `True`  \n",
    ">- aumentare la velocita' nel generare foreste multiple:\n",
    ">   - `warm_start`  e' un parametro che se impostato su `True` e se si fanno piu' foreste con un diverso numero di alberi (`n_estimators`) non ricrea la foresta da capo, ma pianta piu' alberi in quella vecchia\n",
    "\n",
    "##### _**RandomForest per classificare l'importanza delle feautures:**_\n",
    "Il modello RandomForest puo' essere anche utilizzato per quantificare e ordinare l'importanza delle feautures di un dataset per farlo si fa una media dell'importanza delle feutures quantificata negli alberi per poterlo fare si fa uso del metodo `model.feauture_importances` e del metodo `model.estimators`:"
   ]
  },
  {
   "cell_type": "code",
   "execution_count": 330,
   "metadata": {},
   "outputs": [],
   "source": [
    "importances = model.feature_importances_\n",
    "std = np.std([tree.feature_importances_ for tree in model.estimators_], axis=0)\n",
    "indices = np.argsort(importances)[::-1]"
   ]
  },
  {
   "cell_type": "markdown",
   "metadata": {},
   "source": [
    "### Regressione: ###\n",
    "Conosciamo 3 algoritmi di regressione:\n",
    "1. **funzione [DecisionTree](https://scikit-learn.org/stable/modules/generated/sklearn.tree.DecisionTreeRegressor.html#sklearn.tree.DecisionTreeRegressor)**\n",
    "2. **funzione [RandomForest](https://scikit-learn.org/stable/modules/generated/sklearn.ensemble.RandomForestRegressor.html)**\n",
    "3. **funzione [k-NN](https://scikit-learn.org/stable/modules/generated/sklearn.neighbors.KNeighborsRegressor.html)**\n",
    "\n",
    "> In questi algoritmi il parametro `criterion` e' il metodo con cui si calcola la `loss function` mentre l'algorimo apprende. Noi usiamo sempre l'errore quadratico medio, ovvero la distanza euclidea `\"squared_error\"`\n",
    "\n",
    "> Lo `score` di questi modelli e' $R^2$ che sarebbe $\\left(1-\\frac{u}{v}\\right)$ in cui $u$ e' $\\sum \\left(y^{predetto}_i - y^{vero}_i\\right)^2$ e $v$ e' $\\sum \\left(y^{vero}_i - \\mu_{y^{vero}}\\right)^2$.  \n",
    "> Il suo massimo e' 1. e non e' limitato inferiormente.\n",
    "\n",
    "> Per valutare quanto il modello e' buono nella predizione si puo' utilizzare `predict` e poi analizzare il `mean_absolute_error`"
   ]
  },
  {
   "cell_type": "markdown",
   "metadata": {},
   "source": [
    "#### 1. DecisionTree\n",
    "Questo algoritmo e' veloce e esiste nella versione di classificazione\n",
    "> E' presente un iperparametro da scegliere e che bisonga provare:\n",
    ">- `max_depth` tra 1 e 10 circa, e' la profondita' dell'albero. Un `max_deph` basso e' non rende il modello significativo mentre se e' troppo alto overfitta."
   ]
  },
  {
   "cell_type": "code",
   "execution_count": 298,
   "metadata": {},
   "outputs": [
    {
     "data": {
      "text/plain": [
       "DecisionTreeRegressor(max_depth=5)"
      ]
     },
     "execution_count": 298,
     "metadata": {},
     "output_type": "execute_result"
    }
   ],
   "source": [
    "mxDPH=5\n",
    "model=tr.DecisionTreeRegressor(max_depth=mxDPH,criterion=\"squared_error\")\n",
    "model.fit(DATA,REGR)"
   ]
  },
  {
   "cell_type": "code",
   "execution_count": 301,
   "metadata": {},
   "outputs": [
    {
     "name": "stdout",
     "output_type": "stream",
     "text": [
      "0.008501372706009258\n",
      "0.6331649991486362\n"
     ]
    }
   ],
   "source": [
    "print(model.score(DATA,REGR))\n",
    "predict=model.predict(DATA)\n",
    "print(mtx.mean_absolute_error(REGR, predict))"
   ]
  },
  {
   "cell_type": "markdown",
   "metadata": {},
   "source": [
    "#### 2. RandomForest\n",
    "\n",
    "Questo algoritmo consiste in un ensamble di altri modelli, nel caso specifico di (e come lo abbiamo utilizzato noi) di alberi. Il risultato si tratta di una media di diversi alberi. Esiste nella versione di classificazione\n",
    "> Sono presenti 3 iperparametri da scegliere e che bisonga provare:\n",
    ">- `max_depth` e' la massima profondita' degli alberi che costituiscono la foresta\n",
    ">- `min_samples_split` governa il numero di campioni necessari per procedere ad uno split di un nodo: più alto è il numero minore sarà la segmentazione e le diramazioni dell'albero\n",
    ">- `n_estimators` e' il numero degli alberi nella foresta"
   ]
  },
  {
   "cell_type": "code",
   "execution_count": 303,
   "metadata": {},
   "outputs": [
    {
     "data": {
      "text/plain": [
       "RandomForestRegressor(max_depth=5, min_samples_split=10, n_estimators=30,\n",
       "                      oob_score=True, warm_start=True)"
      ]
     },
     "execution_count": 303,
     "metadata": {},
     "output_type": "execute_result"
    }
   ],
   "source": [
    "nTree=30\n",
    "leafsz=10\n",
    "mxDPH=5\n",
    "model=ens.RandomForestRegressor(n_estimators=nTree,\n",
    "                                criterion=\"squared_error\",\n",
    "                                min_samples_split=leafsz,\n",
    "                                max_depth=mxDPH,\n",
    "                                oob_score=True,\n",
    "                                warm_start=True)\n",
    "model.fit(DATA,REGR)"
   ]
  },
  {
   "cell_type": "code",
   "execution_count": 304,
   "metadata": {},
   "outputs": [
    {
     "name": "stdout",
     "output_type": "stream",
     "text": [
      "0.014121019641855193\n",
      "0.6326077776499957\n"
     ]
    }
   ],
   "source": [
    "print(model.score(DATA,REGR))\n",
    "predict=model.predict(DATA)\n",
    "print(mtx.mean_absolute_error(REGR, predict))"
   ]
  },
  {
   "cell_type": "markdown",
   "metadata": {},
   "source": [
    "> Altre possibili cose utili per la RandomForest sono:  \n",
    ">- modi per valutare lo score:  \n",
    ">   - `model.oob_score_` va a calcolare la media dello score dei vari alberi, ma utilizzando per ogni albero una parte di dati che non ha utilizzato per trainalo. Questa metrica e' accessibile soltanto se si chiama la Forest con il parametro `oob_score` impostato su `True`  \n",
    ">- aumentare la velocita' nel generare foreste multiple:\n",
    ">   - `warm_start`  e' un parametro che se impostato su `True` e se si fanno piu' foreste con un diverso numero di alberi (`n_estimators`) non ricrea la foresta da capo, ma pianta piu' alberi in quella vecchia"
   ]
  },
  {
   "cell_type": "markdown",
   "metadata": {},
   "source": [
    "#### 3. k-NN\n",
    "Questo algoritmo e' veloce e esiste nella versione di classificazione\n",
    "> E' presente un iperparametro da scegliere e che bisonga provare:\n",
    ">- `k` tra 1 e 50 circa, e' il numero dei primi vicini di cui controlla il label quando allena il modello. Un `k` basso e' sensibile agli outlayers mentre un `k` alto e' lento e rischia di non essere efficace."
   ]
  },
  {
   "cell_type": "code",
   "execution_count": 322,
   "metadata": {},
   "outputs": [
    {
     "data": {
      "text/plain": [
       "KNeighborsRegressor(n_neighbors=10)"
      ]
     },
     "execution_count": 322,
     "metadata": {},
     "output_type": "execute_result"
    }
   ],
   "source": [
    "k=10\n",
    "model=ngb.KNeighborsRegressor(n_neighbors=k)\n",
    "model.fit(DATA,REGR)"
   ]
  },
  {
   "cell_type": "code",
   "execution_count": 323,
   "metadata": {},
   "outputs": [
    {
     "name": "stdout",
     "output_type": "stream",
     "text": [
      "0.100298034801871\n",
      "0.5899314791559869\n"
     ]
    }
   ],
   "source": [
    "print(model.score(DATA,REGR))\n",
    "predict=model.predict(DATA)\n",
    "print(mtx.mean_absolute_error(REGR, predict))"
   ]
  },
  {
   "cell_type": "markdown",
   "metadata": {},
   "source": [
    "## Apprendimento non supervisionato ##\n",
    "Gli algoritmi che conosciamo per trovare i cluster in modo non supervisionato sono 2:\n",
    "1. **funzione [K-Means](https://scikit-learn.org/stable/modules/generated/sklearn.cluster.KMeans.html)**\n",
    "2. **funzione [GaussianMixture](https://scikit-learn.org/stable/modules/generated/sklearn.mixture.GaussianMixture.html)**\n",
    "\n",
    "> Per avere uno score e poter valutare quanto il modello riesce a classificare trovare i clusters, utilizziamo o l'`accuracy_score` se riusciamo a mappare i labels che lui trova in quelli che ci saremmo aspettati, oppure dobbiamo utilizzare un altra metrica, come per esempio `adjusted_rand_score`\n"
   ]
  },
  {
   "cell_type": "markdown",
   "metadata": {},
   "source": [
    "#### 1. K-Means\n",
    "> E' presente un iperparametro da scegliere e che bisonga provare:\n",
    ">- `n_cluster` e' il numero di cluster su cui il modello lavorera'."
   ]
  },
  {
   "cell_type": "code",
   "execution_count": 311,
   "metadata": {},
   "outputs": [
    {
     "data": {
      "text/plain": [
       "KMeans(max_iter=600, n_clusters=10, random_state=1234)"
      ]
     },
     "execution_count": 311,
     "metadata": {},
     "output_type": "execute_result"
    }
   ],
   "source": [
    "ncluster=10\n",
    "model=cl.KMeans(n_clusters=ncluster,\n",
    "                init='k-means++',\n",
    "                n_init=10,\n",
    "                max_iter=600,\n",
    "                tol=1e-04,\n",
    "                random_state=1234)\n",
    "model.fit(DATA)"
   ]
  },
  {
   "cell_type": "code",
   "execution_count": 312,
   "metadata": {},
   "outputs": [
    {
     "name": "stdout",
     "output_type": "stream",
     "text": [
      "-9.100396714271061e-05\n"
     ]
    }
   ],
   "source": [
    "labelOfPoints=model.labels_.astype(int)\n",
    "predict=model.predict(DATA)\n",
    "print(mtx.adjusted_rand_score(LABEL,labelOfPoints))"
   ]
  },
  {
   "cell_type": "markdown",
   "metadata": {},
   "source": [
    "> Altre possibili cose utili per il K-Means sono:  \n",
    ">- modi per valutare il valore dell'iperparametro `n_cluster`:  \n",
    ">   - `siluette_score` e' una metrica che misura quanto è simile un punto ai punti del suo cluster (coesione A), confrontato con quanto è dissimile ai punti degli altri cluster (separazione B): $S = \\frac{B-A}{max(A,B)}$.\n",
    "S raggiunge un massimo globale per il `n_cluster` ottimale.\n",
    ">   - `distortion` e' un valore che nel punto di massima curvatura (punto di `elbow`) indica l'`n_cluster` ottimale. Per calcolarlo si usa l'attributo `model.inertia_`  \n",
    ">- altre robe:  \n",
    ">   - `model.label_.astype(int)` contiene le label con cui il modello ha classificato i dati\n",
    "\n"
   ]
  },
  {
   "cell_type": "markdown",
   "metadata": {},
   "source": [
    "#### 2. GaussianMixture\n",
    "> E' presente un iperparametro da scegliere e che bisonga provare:\n",
    ">- `n_cluster` e' il numero di cluster su cui il modello lavorera'."
   ]
  },
  {
   "cell_type": "code",
   "execution_count": 318,
   "metadata": {},
   "outputs": [
    {
     "data": {
      "text/plain": [
       "GaussianMixture(n_components=10, random_state=1234)"
      ]
     },
     "execution_count": 318,
     "metadata": {},
     "output_type": "execute_result"
    }
   ],
   "source": [
    "ncluster=10\n",
    "model=mx.GaussianMixture(n_components=ncluster,\n",
    "                        covariance_type='full',\n",
    "                        random_state=1234)\n",
    "model.fit(DATA)"
   ]
  },
  {
   "cell_type": "code",
   "execution_count": 319,
   "metadata": {},
   "outputs": [
    {
     "name": "stdout",
     "output_type": "stream",
     "text": [
      "-9.100396714271061e-05\n"
     ]
    }
   ],
   "source": [
    "predict=model.predict(DATA)\n",
    "print(mtx.adjusted_rand_score(LABEL,labelOfPoints))"
   ]
  },
  {
   "cell_type": "markdown",
   "metadata": {},
   "source": [
    "> Altre possibili cose utili per il GaussianMixtures sono:  \n",
    ">- `model.predict_proba(DATA)` restituisce la probabilita' dei dati di trovarsi nel cluster in cui si trovano\n"
   ]
  },
  {
   "cell_type": "markdown",
   "metadata": {},
   "source": [
    "## Plotting ##"
   ]
  },
  {
   "cell_type": "markdown",
   "metadata": {},
   "source": [
    "### 2D\n",
    "##### Routine di base:"
   ]
  },
  {
   "cell_type": "code",
   "execution_count": 342,
   "metadata": {},
   "outputs": [
    {
     "data": {
      "text/plain": [
       "<matplotlib.legend.Legend at 0x7f8d81ec9bb0>"
      ]
     },
     "execution_count": 342,
     "metadata": {},
     "output_type": "execute_result"
    },
    {
     "data": {
      "image/png": "[encoded data removed]",
      "text/plain": [
       "<Figure size 216x216 with 1 Axes>"
      ]
     },
     "metadata": {
      "needs_background": "light"
     },
     "output_type": "display_data"
    }
   ],
   "source": [
    "fig=plt.figure(figsize=(3,3))\n",
    "ax=fig.add_subplot(1,1,1)\n",
    "ax.set_title(\"Title\")\n",
    "ax.set_xlabel(\"x label\")\n",
    "ax.set_ylabel(\"y label\")\n",
    "ax.grid()\n",
    "ax.plot(DATA.T[0],DATA.T[1],ls=\"\",marker=\".\",label=\"points\")\n",
    "ax.legend()"
   ]
  },
  {
   "cell_type": "markdown",
   "metadata": {},
   "source": [
    "### 3D"
   ]
  }
 ],
 "metadata": {
  "interpreter": {
   "hash": "b7c6e3ac6276ae6e8fe749e927517f557a0614925bf1968fc0df55418bc05c8e"
  },
  "kernelspec": {
   "display_name": "Python 3.9.12 ('ML')",
   "language": "python",
   "name": "python3"
  },
  "language_info": {
   "codemirror_mode": {
    "name": "ipython",
    "version": 3
   },
   "file_extension": ".py",
   "mimetype": "text/x-python",
   "name": "python",
   "nbconvert_exporter": "python",
   "pygments_lexer": "ipython3",
   "version": "3.9.12"
  },
  "orig_nbformat": 4
 },
 "nbformat": 4,
 "nbformat_minor": 2
}
