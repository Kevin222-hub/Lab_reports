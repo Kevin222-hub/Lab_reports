{
 "cells": [
  {
   "cell_type": "code",
   "execution_count": 6,
   "metadata": {},
   "outputs": [],
   "source": [
    "import my_lib as my\n",
    "import matplotlib.pyplot as plt\n",
    "import numpy as np\n",
    "import scipy as s\n",
    "import pandas as pd\n",
    "from scipy import stats\n",
    "from math import log10, floor,pi,sqrt,tan\n",
    "\n",
    "m=0.001\n",
    "u=0.000001\n",
    "n=0.000000001\n",
    "p=0.000000000001\n",
    "k=1000\n",
    "M=1000000\n",
    "G=1000000000\n",
    "T=1000000000000\n",
    "\n",
    "def Pw2(x):\n",
    "    return np.power(x,2)\n"
   ]
  },
  {
   "cell_type": "code",
   "execution_count": 7,
   "metadata": {},
   "outputs": [],
   "source": [
    "# Pt1 Formule e costanti\n",
    "\n",
    "#  coo = 4*(f/pi)**2\n",
    "#  f = pi*sqrt(coo/4)\n",
    "\n",
    "# b = 2*pi/(Vx[max1] - Vx[max0] ) = 2*pi/( (N-1)*(Vx[maxN]-Vx[max0]))\n",
    "\n",
    "\n",
    "def coo_th(R1,R2):\n",
    "    Rm = np.sqrt(R1*R2)\n",
    "    coo = 4*Rm/Pw2(1-Rm,2)\n",
    "    return coo\n",
    "\n",
    "def Airy_fit(x,coo,b,a,phi): # x: Vx[mV]\n",
    "    I = a/(1+4*coo*Pw2(np.sin(b*x/2 + phi)))\n",
    "    return I"
   ]
  },
  {
   "cell_type": "code",
   "execution_count": null,
   "metadata": {},
   "outputs": [],
   "source": [
    "# Pt2 Formule e costanti\n",
    "\n",
    "def f_sp(Vx0,Vx1,DeltaV):\n",
    "    f = (Vx1 - Vx0)/(2*DelatV)\n",
    "    return f\n",
    "\n",
    "def f_th(R1,R2):\n",
    "    Rm = np.sqrt(R1*R2)\n",
    "    coo = pi*np.sqrt(Rm)/(1-Rm)\n",
    "    return f\n",
    "\n",
    "def cr_sp(Vmin,Vmax):\n",
    "    cr = Vmax/Vmin\n",
    "    return cr\n",
    "    \n",
    "def cr_th(R1,R2):\n",
    "    Rm = np.sqrt(R1*R2)\n",
    "    cr = Pw2( (1+Rm)/(1-Rm) )\n",
    "    return cr"
   ]
  },
  {
   "cell_type": "code",
   "execution_count": null,
   "metadata": {},
   "outputs": [],
   "source": [
    "# Pt3 Formule e costanti\n",
    "\n",
    "def Ordine(t1,t2):\n",
    "    n = 2/( (t1-t2)*(t1+t2) )\n",
    "    return n\n",
    "\n",
    "def lenght(n,L):\n",
    "    d = n*L/2\n",
    "    return d"
   ]
  }
 ],
 "metadata": {
  "kernelspec": {
   "display_name": "Python 3",
   "language": "python",
   "name": "python3"
  },
  "language_info": {
   "codemirror_mode": {
    "name": "ipython",
    "version": 3
   },
   "file_extension": ".py",
   "mimetype": "text/x-python",
   "name": "python",
   "nbconvert_exporter": "python",
   "pygments_lexer": "ipython3",
   "version": "3.8.5"
  }
 },
 "nbformat": 4,
 "nbformat_minor": 4
}
