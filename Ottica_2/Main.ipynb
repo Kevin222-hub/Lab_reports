{
 "cells": [
  {
   "cell_type": "code",
   "execution_count": 2,
   "metadata": {},
   "outputs": [],
   "source": [
    "import my_lib as my\n",
    "import matplotlib.pyplot as plt\n",
    "import numpy as np\n",
    "import scipy as s\n",
    "import pandas as pd\n",
    "from scipy import stats\n",
    "from math import log10, floor,pi,sqrt,tan\n",
    "\n",
    "m=0.001\n",
    "u=0.000001\n",
    "n=0.000000001\n",
    "p=0.000000000001\n",
    "k=1000\n",
    "M=1000000\n",
    "G=1000000000\n",
    "T=1000000000000\n",
    "\n",
    "def Pw2(x):\n",
    "    return np.power(x,2)\n"
   ]
  },
  {
   "cell_type": "code",
   "execution_count": 3,
   "metadata": {},
   "outputs": [],
   "source": [
    "# Pt1 Formule e costanti\n",
    "\n",
    "#  coo = 4*(f/pi)**2\n",
    "#  f = pi*sqrt(coo/4)\n",
    "\n",
    "# b = 2*pi/(Vx[max1] - Vx[max0] ) = 2*pi/( (N-1)*(Vx[maxN]-Vx[max0]))\n",
    "\n",
    "\n",
    "def coo_th(R1,R2):\n",
    "    Rm = np.sqrt(R1*R2)\n",
    "    coo = 4*Rm/Pw2(1-Rm,2)\n",
    "    return coo\n",
    "\n",
    "def Airy_fit(x,coo,b,a,phi,c): # x: Vx[mV]\n",
    "    I = a/(1+4*coo*Pw2(np.sin(b*x/2 + phi))) + c\n",
    "    return I"
   ]
  },
  {
   "cell_type": "code",
   "execution_count": 8,
   "metadata": {},
   "outputs": [
    {
     "data": {
      "text/plain": [
       "Text(0, 0.5, 'I [V]')"
      ]
     },
     "execution_count": 8,
     "metadata": {},
     "output_type": "execute_result"
    },
    {
     "data": {
      "image/png": "[encoded data removed]",
      "text/plain": [
       "<Figure size 432x288 with 1 Axes>"
      ]
     },
     "metadata": {
      "needs_background": "light"
     },
     "output_type": "display_data"
    }
   ],
   "source": [
    "R1 = 0.92\n",
    "R2 = 0.92\n",
    "\n",
    "df1 = pd.read_csv('PrimaCH1.csv')\n",
    "CH1  = np.asarray(df1.iloc[:,4])\n",
    "\n",
    "\n",
    "df2 = pd.read_csv('PrimaCH2.csv')\n",
    "t = np.asarray(df2.iloc[:,3])\n",
    "CH2  = np.asarray(df2.iloc[:,4])\n",
    "\n",
    "\n",
    "\n",
    "\n",
    "plt.plot(t,CH2,label = 'Airy')\n",
    "plt.plot(t,CH1/10,label = 'Piezo (non in scala)')\n",
    "plt.grid()\n",
    "#plt.xlim(2.2,2.35)\n",
    "#plt.ylim(1.34,1.4)\n",
    "plt.title('Funzione Airy')\n",
    "plt.xlabel('time [s]')\n",
    "plt.legend()\n",
    "plt.ylabel('I [V]')"
   ]
  },
  {
   "cell_type": "code",
   "execution_count": 41,
   "metadata": {},
   "outputs": [
    {
     "name": "stdout",
     "output_type": "stream",
     "text": [
      "f th = 29.803764797388308\n",
      "f ex = 19.0\n",
      "cr th = 361.0000000000001\n",
      "cr ex = 165.5\n"
     ]
    }
   ],
   "source": [
    "# Pt2 Formule e costanti\n",
    "\n",
    "\n",
    "\n",
    "def f_sp(diff_max,DeltaV):\n",
    "    f = diff_max/(DeltaV)\n",
    "    return f\n",
    "\n",
    "def f_th(R1,R2):\n",
    "    Rm = np.sqrt(R1*R2)\n",
    "    f = pi*np.sqrt(Rm)/(1-Rm)\n",
    "    return f\n",
    "\n",
    "def cr_sp(Vmin,Vmax):\n",
    "    cr = Vmax/Vmin\n",
    "    return cr\n",
    "    \n",
    "def cr_th(R1,R2):\n",
    "    Rm = np.sqrt(R1*R2)\n",
    "    cr = Pw2( (1+Rm)/(1-Rm) )\n",
    "    return cr\n",
    "\n",
    "R1 = np.asarray([92,95,85,80,90])\n",
    "R2 = np.asarray([95,95,85,85,90])\n",
    "\n",
    "#Imax = np.asarray([,,,,])\n",
    "#Imin = np.asarray([,,,,])\n",
    "\n",
    "#diff_max = np.asarray([,,,,])\n",
    "#Mezzo = np.asarray([,,,,])\n",
    "\n",
    "fexp = f_sp(7600,400)\n",
    "fth = f_th(0.90,0.90)\n",
    "\n",
    "crexp = cr_sp(0.020,3.31)\n",
    "crth = cr_th(0.90,0.90)\n",
    "\n",
    "print('f th =',fth)\n",
    "print('f ex =',fexp)\n",
    "print('cr th =',crth)\n",
    "print('cr ex =',crexp)"
   ]
  },
  {
   "cell_type": "code",
   "execution_count": null,
   "metadata": {},
   "outputs": [],
   "source": [
    "Rm = np.sqrt(R1*R2)\n",
    "\n",
    "plt.plot(Rm,fexp)\n",
    "plt.plot(Rm,fth)\n",
    "plt.grid()"
   ]
  },
  {
   "cell_type": "code",
   "execution_count": 13,
   "metadata": {},
   "outputs": [
    {
     "ename": "NameError",
     "evalue": "name 'Vmax' is not defined",
     "output_type": "error",
     "traceback": [
      "\u001b[1;31m---------------------------------------------------------------------------\u001b[0m",
      "\u001b[1;31mNameError\u001b[0m                                 Traceback (most recent call last)",
      "\u001b[1;32m<ipython-input-13-227c8ead57b2>\u001b[0m in \u001b[0;36m<module>\u001b[1;34m\u001b[0m\n\u001b[0;32m      3\u001b[0m \u001b[1;31m#Servono: R1,R2, Vx,Vy, Vx[maxs] => Vmaxs\u001b[0m\u001b[1;33m\u001b[0m\u001b[1;33m\u001b[0m\u001b[1;33m\u001b[0m\u001b[0m\n\u001b[0;32m      4\u001b[0m \u001b[1;33m\u001b[0m\u001b[0m\n\u001b[1;32m----> 5\u001b[1;33m \u001b[0mValues\u001b[0m\u001b[1;33m,\u001b[0m\u001b[0msValues\u001b[0m \u001b[1;33m=\u001b[0m \u001b[0mmy\u001b[0m\u001b[1;33m.\u001b[0m\u001b[0mintersect\u001b[0m\u001b[1;33m(\u001b[0m\u001b[0mVmax\u001b[0m\u001b[1;33m/\u001b[0m\u001b[1;36m2\u001b[0m\u001b[1;33m,\u001b[0m\u001b[0mVx\u001b[0m\u001b[1;33m,\u001b[0m\u001b[0mVy\u001b[0m\u001b[1;33m,\u001b[0m\u001b[0msdx\u001b[0m \u001b[1;33m=\u001b[0m \u001b[0msVx\u001b[0m\u001b[1;33m,\u001b[0m\u001b[0msdy\u001b[0m \u001b[1;33m=\u001b[0m \u001b[0msVy\u001b[0m\u001b[1;33m,\u001b[0m\u001b[0mplot\u001b[0m \u001b[1;33m=\u001b[0m \u001b[1;32mTrue\u001b[0m\u001b[1;33m)\u001b[0m\u001b[1;33m\u001b[0m\u001b[1;33m\u001b[0m\u001b[0m\n\u001b[0m\u001b[0;32m      6\u001b[0m \u001b[1;33m\u001b[0m\u001b[0m\n\u001b[0;32m      7\u001b[0m \u001b[0mdV\u001b[0m \u001b[1;33m=\u001b[0m \u001b[0mnp\u001b[0m\u001b[1;33m.\u001b[0m\u001b[0masarray\u001b[0m\u001b[1;33m(\u001b[0m\u001b[1;33m[\u001b[0m\u001b[1;33m]\u001b[0m\u001b[1;33m)\u001b[0m\u001b[1;33m\u001b[0m\u001b[1;33m\u001b[0m\u001b[0m\n",
      "\u001b[1;31mNameError\u001b[0m: name 'Vmax' is not defined"
     ]
    }
   ],
   "source": [
    "# Per singola combinazione di R1,R2\n",
    "\n",
    "#Servono: R1,R2, Vx,Vy, Vx[maxs] => Vmaxs\n",
    "\n",
    "Values,sValues = my.intersect(Vmax/2,Vx,Vy,sdx = sVx,sdy = sVy,plot = True)\n",
    "\n",
    "dV = np.asarray([])\n",
    "sdV = np.asarray([])\n",
    "\n",
    "for n in range(len(Vmaxs)):\n",
    "    DeltaV = Values[n*2+1] - Values[n*2]\n",
    "    sDeltaV = my.sqrt_sum(sValues[n+1],sValues[n])\n",
    "    dV = np.append(dV,DeltaV)\n",
    "    sdV = np.append(sdV,sDeltaV)\n",
    "\n",
    "dMax = np.asarray([])\n",
    "sdMax = np.asarray([])\n",
    "    \n",
    "for n in range(len(Vmaxs)-1):\n",
    "    diff_max = Vmaxs[n+1] - Vmaxs[n]\n",
    "    sdiff_max = my.sqrt_sum(sVmaxs[n+1],sVmaxs[n])\n",
    "    dMax = np.append(dMax,diff_max)\n",
    "    sdMax = np.append(sdMax,sdiff_max)\n",
    "\n",
    "    \n",
    "DeltaV = np.sum(dV)/len(dV)\n",
    "sDeltaV = my.sqrt_sum(sdV)/len(sdV)\n",
    "diff_max = np.sum(dMax)/len(dMax)\n",
    "sdiff_max = np.sum(sdMax)/len(sdMax)    \n",
    "\n",
    "Finess_exp = f_sp(diff_max,DeltaV)\n",
    "\n",
    "Finess_th  = f_th(R1,R2)\n"
   ]
  },
  {
   "cell_type": "code",
   "execution_count": 14,
   "metadata": {},
   "outputs": [],
   "source": [
    "# Pt3 Formule e costanti\n",
    "\n",
    "def Ordine(t1,t2):\n",
    "    n = 2/( (t1-t2)*(t1+t2) )\n",
    "    return n\n",
    "\n",
    "def lenght(n,L):\n",
    "    d = n*L/2\n",
    "    return d"
   ]
  },
  {
   "cell_type": "code",
   "execution_count": null,
   "metadata": {},
   "outputs": [],
   "source": []
  },
  {
   "cell_type": "code",
   "execution_count": null,
   "metadata": {},
   "outputs": [],
   "source": []
  }
 ],
 "metadata": {
  "kernelspec": {
   "display_name": "Python 3",
   "language": "python",
   "name": "python3"
  },
  "language_info": {
   "codemirror_mode": {
    "name": "ipython",
    "version": 3
   },
   "file_extension": ".py",
   "mimetype": "text/x-python",
   "name": "python",
   "nbconvert_exporter": "python",
   "pygments_lexer": "ipython3",
   "version": "3.7.6"
  }
 },
 "nbformat": 4,
 "nbformat_minor": 4
}
