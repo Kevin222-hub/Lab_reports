{
 "cells": [
  {
   "cell_type": "code",
   "execution_count": 1,
   "metadata": {},
   "outputs": [],
   "source": [
    "#import my_lib as my\n",
    "import matplotlib.pyplot as plt\n",
    "import numpy as np\n",
    "import scipy as s\n",
    "import pandas as pd\n",
    "from scipy import stats\n",
    "from math import log10, floor,pi,sqrt,tan\n",
    "\n",
    "m=0.001\n",
    "u=0.000001\n",
    "n=0.000000001\n",
    "p=0.000000000001\n",
    "k=1000\n",
    "M=1000000\n",
    "G=1000000000\n",
    "T=1000000000000\n",
    "\n",
    "def Pw2(x):\n",
    "    return np.power(x,2)"
   ]
  },
  {
   "cell_type": "code",
   "execution_count": 2,
   "metadata": {},
   "outputs": [],
   "source": [
    "# Pt1 formule e costanti \n",
    "\n",
    "def t0_fit(b,phi,sb = 0,sphi = 0):\n",
    "    #t0  = -phi/b*180/pi\n",
    "    t0  = (2*pi-phi)/b*180/pi\n",
    "    db   = -phi/Pw2(b) *sb\n",
    "    dphi = -1/b        *sphi\n",
    "    st0 = np.sqrt(Pw2(db) + Pw2(dphi))*180/pi\n",
    "    return t0,st0"
   ]
  },
  {
   "cell_type": "code",
   "execution_count": 3,
   "metadata": {},
   "outputs": [],
   "source": [
    "# Pt1\n",
    "\n",
    "sigmaRad = (1/2)*pi/180\n",
    "name  =  ['Data/L2.csv','Data/L4_cut.csv']\n",
    "title = ['$Fit\\    \\dfrac{\\lambda}{2}$','$Fit\\    \\dfrac{\\lambda}{4}$']\n",
    "\n",
    "bounds_min =[[0,0,4000,-1000],  \n",
    "             [0,0,3000,-1000]]\n",
    "bounds_max =[[3,10,15000,1000],\n",
    "             [3,10,15000,3000]] \n",
    "\n",
    "array_t0  = np.asarray([])\n",
    "\n",
    "def func_fit(x,b,phi,A,c):\n",
    "    I = A*Pw2(np.cos(b*x + phi)) + c\n",
    "    return I"
   ]
  },
  {
   "cell_type": "code",
   "execution_count": 33,
   "metadata": {},
   "outputs": [
    {
     "ename": "FileNotFoundError",
     "evalue": "[Errno 2] File D does not exist: 'D'",
     "output_type": "error",
     "traceback": [
      "\u001b[1;31m---------------------------------------------------------------------------\u001b[0m",
      "\u001b[1;31mFileNotFoundError\u001b[0m                         Traceback (most recent call last)",
      "\u001b[1;32m<ipython-input-33-3cda3f8f0b9e>\u001b[0m in \u001b[0;36m<module>\u001b[1;34m\u001b[0m\n\u001b[0;32m      1\u001b[0m \u001b[1;32mfor\u001b[0m \u001b[0mT\u001b[0m \u001b[1;32min\u001b[0m \u001b[0mrange\u001b[0m\u001b[1;33m(\u001b[0m\u001b[0mlen\u001b[0m\u001b[1;33m(\u001b[0m\u001b[0mname\u001b[0m\u001b[1;33m)\u001b[0m\u001b[1;33m)\u001b[0m\u001b[1;33m:\u001b[0m\u001b[1;33m\u001b[0m\u001b[1;33m\u001b[0m\u001b[0m\n\u001b[0;32m      2\u001b[0m \u001b[1;33m\u001b[0m\u001b[0m\n\u001b[1;32m----> 3\u001b[1;33m     \u001b[0mdf\u001b[0m\u001b[1;33m=\u001b[0m \u001b[0mpd\u001b[0m\u001b[1;33m.\u001b[0m\u001b[0mread_csv\u001b[0m\u001b[1;33m(\u001b[0m\u001b[0mname\u001b[0m\u001b[1;33m[\u001b[0m\u001b[0mT\u001b[0m\u001b[1;33m]\u001b[0m\u001b[1;33m)\u001b[0m\u001b[1;33m\u001b[0m\u001b[1;33m\u001b[0m\u001b[0m\n\u001b[0m\u001b[0;32m      4\u001b[0m     \u001b[0mtheta\u001b[0m \u001b[1;33m=\u001b[0m \u001b[0mnp\u001b[0m\u001b[1;33m.\u001b[0m\u001b[0masarray\u001b[0m\u001b[1;33m(\u001b[0m\u001b[0mdf\u001b[0m\u001b[1;33m.\u001b[0m\u001b[0miloc\u001b[0m\u001b[1;33m[\u001b[0m\u001b[1;33m:\u001b[0m\u001b[1;33m,\u001b[0m\u001b[1;36m0\u001b[0m\u001b[1;33m]\u001b[0m\u001b[1;33m)\u001b[0m\u001b[1;33m*\u001b[0m\u001b[0mpi\u001b[0m\u001b[1;33m/\u001b[0m\u001b[1;36m180\u001b[0m\u001b[1;33m\u001b[0m\u001b[1;33m\u001b[0m\u001b[0m\n\u001b[0;32m      5\u001b[0m     \u001b[0mI\u001b[0m  \u001b[1;33m=\u001b[0m \u001b[0mnp\u001b[0m\u001b[1;33m.\u001b[0m\u001b[0masarray\u001b[0m\u001b[1;33m(\u001b[0m\u001b[0mdf\u001b[0m\u001b[1;33m.\u001b[0m\u001b[0miloc\u001b[0m\u001b[1;33m[\u001b[0m\u001b[1;33m:\u001b[0m\u001b[1;33m,\u001b[0m\u001b[1;36m1\u001b[0m\u001b[1;33m]\u001b[0m\u001b[1;33m)\u001b[0m\u001b[1;33m\u001b[0m\u001b[1;33m\u001b[0m\u001b[0m\n",
      "\u001b[1;32m~\\anaconda3\\lib\\site-packages\\pandas\\io\\parsers.py\u001b[0m in \u001b[0;36mparser_f\u001b[1;34m(filepath_or_buffer, sep, delimiter, header, names, index_col, usecols, squeeze, prefix, mangle_dupe_cols, dtype, engine, converters, true_values, false_values, skipinitialspace, skiprows, skipfooter, nrows, na_values, keep_default_na, na_filter, verbose, skip_blank_lines, parse_dates, infer_datetime_format, keep_date_col, date_parser, dayfirst, cache_dates, iterator, chunksize, compression, thousands, decimal, lineterminator, quotechar, quoting, doublequote, escapechar, comment, encoding, dialect, error_bad_lines, warn_bad_lines, delim_whitespace, low_memory, memory_map, float_precision)\u001b[0m\n\u001b[0;32m    674\u001b[0m         )\n\u001b[0;32m    675\u001b[0m \u001b[1;33m\u001b[0m\u001b[0m\n\u001b[1;32m--> 676\u001b[1;33m         \u001b[1;32mreturn\u001b[0m \u001b[0m_read\u001b[0m\u001b[1;33m(\u001b[0m\u001b[0mfilepath_or_buffer\u001b[0m\u001b[1;33m,\u001b[0m \u001b[0mkwds\u001b[0m\u001b[1;33m)\u001b[0m\u001b[1;33m\u001b[0m\u001b[1;33m\u001b[0m\u001b[0m\n\u001b[0m\u001b[0;32m    677\u001b[0m \u001b[1;33m\u001b[0m\u001b[0m\n\u001b[0;32m    678\u001b[0m     \u001b[0mparser_f\u001b[0m\u001b[1;33m.\u001b[0m\u001b[0m__name__\u001b[0m \u001b[1;33m=\u001b[0m \u001b[0mname\u001b[0m\u001b[1;33m\u001b[0m\u001b[1;33m\u001b[0m\u001b[0m\n",
      "\u001b[1;32m~\\anaconda3\\lib\\site-packages\\pandas\\io\\parsers.py\u001b[0m in \u001b[0;36m_read\u001b[1;34m(filepath_or_buffer, kwds)\u001b[0m\n\u001b[0;32m    446\u001b[0m \u001b[1;33m\u001b[0m\u001b[0m\n\u001b[0;32m    447\u001b[0m     \u001b[1;31m# Create the parser.\u001b[0m\u001b[1;33m\u001b[0m\u001b[1;33m\u001b[0m\u001b[1;33m\u001b[0m\u001b[0m\n\u001b[1;32m--> 448\u001b[1;33m     \u001b[0mparser\u001b[0m \u001b[1;33m=\u001b[0m \u001b[0mTextFileReader\u001b[0m\u001b[1;33m(\u001b[0m\u001b[0mfp_or_buf\u001b[0m\u001b[1;33m,\u001b[0m \u001b[1;33m**\u001b[0m\u001b[0mkwds\u001b[0m\u001b[1;33m)\u001b[0m\u001b[1;33m\u001b[0m\u001b[1;33m\u001b[0m\u001b[0m\n\u001b[0m\u001b[0;32m    449\u001b[0m \u001b[1;33m\u001b[0m\u001b[0m\n\u001b[0;32m    450\u001b[0m     \u001b[1;32mif\u001b[0m \u001b[0mchunksize\u001b[0m \u001b[1;32mor\u001b[0m \u001b[0miterator\u001b[0m\u001b[1;33m:\u001b[0m\u001b[1;33m\u001b[0m\u001b[1;33m\u001b[0m\u001b[0m\n",
      "\u001b[1;32m~\\anaconda3\\lib\\site-packages\\pandas\\io\\parsers.py\u001b[0m in \u001b[0;36m__init__\u001b[1;34m(self, f, engine, **kwds)\u001b[0m\n\u001b[0;32m    878\u001b[0m             \u001b[0mself\u001b[0m\u001b[1;33m.\u001b[0m\u001b[0moptions\u001b[0m\u001b[1;33m[\u001b[0m\u001b[1;34m\"has_index_names\"\u001b[0m\u001b[1;33m]\u001b[0m \u001b[1;33m=\u001b[0m \u001b[0mkwds\u001b[0m\u001b[1;33m[\u001b[0m\u001b[1;34m\"has_index_names\"\u001b[0m\u001b[1;33m]\u001b[0m\u001b[1;33m\u001b[0m\u001b[1;33m\u001b[0m\u001b[0m\n\u001b[0;32m    879\u001b[0m \u001b[1;33m\u001b[0m\u001b[0m\n\u001b[1;32m--> 880\u001b[1;33m         \u001b[0mself\u001b[0m\u001b[1;33m.\u001b[0m\u001b[0m_make_engine\u001b[0m\u001b[1;33m(\u001b[0m\u001b[0mself\u001b[0m\u001b[1;33m.\u001b[0m\u001b[0mengine\u001b[0m\u001b[1;33m)\u001b[0m\u001b[1;33m\u001b[0m\u001b[1;33m\u001b[0m\u001b[0m\n\u001b[0m\u001b[0;32m    881\u001b[0m \u001b[1;33m\u001b[0m\u001b[0m\n\u001b[0;32m    882\u001b[0m     \u001b[1;32mdef\u001b[0m \u001b[0mclose\u001b[0m\u001b[1;33m(\u001b[0m\u001b[0mself\u001b[0m\u001b[1;33m)\u001b[0m\u001b[1;33m:\u001b[0m\u001b[1;33m\u001b[0m\u001b[1;33m\u001b[0m\u001b[0m\n",
      "\u001b[1;32m~\\anaconda3\\lib\\site-packages\\pandas\\io\\parsers.py\u001b[0m in \u001b[0;36m_make_engine\u001b[1;34m(self, engine)\u001b[0m\n\u001b[0;32m   1112\u001b[0m     \u001b[1;32mdef\u001b[0m \u001b[0m_make_engine\u001b[0m\u001b[1;33m(\u001b[0m\u001b[0mself\u001b[0m\u001b[1;33m,\u001b[0m \u001b[0mengine\u001b[0m\u001b[1;33m=\u001b[0m\u001b[1;34m\"c\"\u001b[0m\u001b[1;33m)\u001b[0m\u001b[1;33m:\u001b[0m\u001b[1;33m\u001b[0m\u001b[1;33m\u001b[0m\u001b[0m\n\u001b[0;32m   1113\u001b[0m         \u001b[1;32mif\u001b[0m \u001b[0mengine\u001b[0m \u001b[1;33m==\u001b[0m \u001b[1;34m\"c\"\u001b[0m\u001b[1;33m:\u001b[0m\u001b[1;33m\u001b[0m\u001b[1;33m\u001b[0m\u001b[0m\n\u001b[1;32m-> 1114\u001b[1;33m             \u001b[0mself\u001b[0m\u001b[1;33m.\u001b[0m\u001b[0m_engine\u001b[0m \u001b[1;33m=\u001b[0m \u001b[0mCParserWrapper\u001b[0m\u001b[1;33m(\u001b[0m\u001b[0mself\u001b[0m\u001b[1;33m.\u001b[0m\u001b[0mf\u001b[0m\u001b[1;33m,\u001b[0m \u001b[1;33m**\u001b[0m\u001b[0mself\u001b[0m\u001b[1;33m.\u001b[0m\u001b[0moptions\u001b[0m\u001b[1;33m)\u001b[0m\u001b[1;33m\u001b[0m\u001b[1;33m\u001b[0m\u001b[0m\n\u001b[0m\u001b[0;32m   1115\u001b[0m         \u001b[1;32melse\u001b[0m\u001b[1;33m:\u001b[0m\u001b[1;33m\u001b[0m\u001b[1;33m\u001b[0m\u001b[0m\n\u001b[0;32m   1116\u001b[0m             \u001b[1;32mif\u001b[0m \u001b[0mengine\u001b[0m \u001b[1;33m==\u001b[0m \u001b[1;34m\"python\"\u001b[0m\u001b[1;33m:\u001b[0m\u001b[1;33m\u001b[0m\u001b[1;33m\u001b[0m\u001b[0m\n",
      "\u001b[1;32m~\\anaconda3\\lib\\site-packages\\pandas\\io\\parsers.py\u001b[0m in \u001b[0;36m__init__\u001b[1;34m(self, src, **kwds)\u001b[0m\n\u001b[0;32m   1889\u001b[0m         \u001b[0mkwds\u001b[0m\u001b[1;33m[\u001b[0m\u001b[1;34m\"usecols\"\u001b[0m\u001b[1;33m]\u001b[0m \u001b[1;33m=\u001b[0m \u001b[0mself\u001b[0m\u001b[1;33m.\u001b[0m\u001b[0musecols\u001b[0m\u001b[1;33m\u001b[0m\u001b[1;33m\u001b[0m\u001b[0m\n\u001b[0;32m   1890\u001b[0m \u001b[1;33m\u001b[0m\u001b[0m\n\u001b[1;32m-> 1891\u001b[1;33m         \u001b[0mself\u001b[0m\u001b[1;33m.\u001b[0m\u001b[0m_reader\u001b[0m \u001b[1;33m=\u001b[0m \u001b[0mparsers\u001b[0m\u001b[1;33m.\u001b[0m\u001b[0mTextReader\u001b[0m\u001b[1;33m(\u001b[0m\u001b[0msrc\u001b[0m\u001b[1;33m,\u001b[0m \u001b[1;33m**\u001b[0m\u001b[0mkwds\u001b[0m\u001b[1;33m)\u001b[0m\u001b[1;33m\u001b[0m\u001b[1;33m\u001b[0m\u001b[0m\n\u001b[0m\u001b[0;32m   1892\u001b[0m         \u001b[0mself\u001b[0m\u001b[1;33m.\u001b[0m\u001b[0munnamed_cols\u001b[0m \u001b[1;33m=\u001b[0m \u001b[0mself\u001b[0m\u001b[1;33m.\u001b[0m\u001b[0m_reader\u001b[0m\u001b[1;33m.\u001b[0m\u001b[0munnamed_cols\u001b[0m\u001b[1;33m\u001b[0m\u001b[1;33m\u001b[0m\u001b[0m\n\u001b[0;32m   1893\u001b[0m \u001b[1;33m\u001b[0m\u001b[0m\n",
      "\u001b[1;32mpandas\\_libs\\parsers.pyx\u001b[0m in \u001b[0;36mpandas._libs.parsers.TextReader.__cinit__\u001b[1;34m()\u001b[0m\n",
      "\u001b[1;32mpandas\\_libs\\parsers.pyx\u001b[0m in \u001b[0;36mpandas._libs.parsers.TextReader._setup_parser_source\u001b[1;34m()\u001b[0m\n",
      "\u001b[1;31mFileNotFoundError\u001b[0m: [Errno 2] File D does not exist: 'D'"
     ]
    }
   ],
   "source": [
    "for T in range(len(name)):\n",
    "\n",
    "    df= pd.read_csv(name[T])\n",
    "    theta = np.asarray(df.iloc[:,0])*pi/180\n",
    "    I  = np.asarray(df.iloc[:,1])\n",
    "    \n",
    "    X = theta\n",
    "    sX = np.full( len(X), sigmaRad )\n",
    "    Y = I\n",
    "    sY = 0.006*Y + 0.005*Y + 4\n",
    "    \n",
    "    #Fit \n",
    "    [b,phi,A,c],pcov = s.optimize.curve_fit(func_fit,X,Y,sigma = sY,absolute_sigma = True,method = 'trf',bounds = (bounds_min[T],bounds_max[T]))\n",
    "    dX = 2*A*b*np.sin(b*X + phi)*np.cos(b*X + phi)*sX\n",
    "    sY = np.sqrt(Pw2(sY) + Pw2(dX))\n",
    "    [b,phi,A,c],pcov = s.optimize.curve_fit(func_fit,X,Y,sigma = sY,absolute_sigma = True,method = 'trf',bounds = (bounds_min[T],bounds_max[T]))\n",
    "    [sb,sphi,sA,sc] = np.sqrt(np.diag(pcov))\n",
    "\n",
    "    Yexp  = func_fit(X,b,phi,A,c)\n",
    "    chi2  = np.sum( ( (Yexp - Y)/sY )**2 )\n",
    "    chi2r = chi2/(len(X)-4) #3 parametri\n",
    "    \n",
    "    #Misure dervate\n",
    "   \n",
    "    theta0,stheta0 = t0_fit(b,phi,sb = sb,sphi = sphi)\n",
    "    AAA = '{} +- {}'.format(theta0,stheta0)\n",
    "    array_t0 = np.append(array_t0,AAA)\n",
    "    \n",
    "    #plot \n",
    "    x = np.linspace(np.min(X),np.max(X),100)\n",
    "    y = func_fit(x,b,phi,A,c)\n",
    "    \n",
    "    plt.errorbar(X*180/pi,Y,yerr=sY, ls='', marker='.',label = 'Punti Misurati', zorder = 0)\n",
    "    plt.plot(x*180/pi,y,label = 'fit',color = 'orange',ls = '--',zorder = 1)\n",
    "\n",
    "    plt.title(title[T])\n",
    "    plt.xlabel('$\\Theta$ [°]')\n",
    "    plt.ylabel('I [mV]')\n",
    "    plt.grid()\n",
    "    plt.legend(loc = 'lower left')\n",
    "    \n",
    "    #print(b,phi,A,c)\n",
    "    print('Chi2 = ',chi2,'| Reduced Chi2 = ',chi2r)\n",
    "    print('theta_0 =',AAA,'°')\n",
    "    plt.show()\n"
   ]
  },
  {
   "cell_type": "code",
   "execution_count": null,
   "metadata": {},
   "outputs": [],
   "source": [
    "Results = pd.DataFrame({'':title,'$\\theta_0 \\pm \\sigma$':array_t0})\n",
    "#print(Results.to_latex(index=False))\n",
    "Results"
   ]
  },
  {
   "cell_type": "code",
   "execution_count": 34,
   "metadata": {},
   "outputs": [
    {
     "data": {
      "image/png": "[encoded data removed]",
      "text/plain": [
       "<Figure size 432x288 with 1 Axes>"
      ]
     },
     "metadata": {
      "needs_background": "light"
     },
     "output_type": "display_data"
    }
   ],
   "source": [
    "# Variazaione L2 con L4 = Tmax + 45°\n",
    "name = 'Data/VarL2.csv'\n",
    "df= pd.read_csv(name)\n",
    "theta = np.asarray(df.iloc[:,0])*pi/180\n",
    "I  = np.asarray(df.iloc[:,1])\n",
    "    \n",
    "X = theta\n",
    "Y = I\n",
    "sY = 0.006*Y + 0.005*Y + 4\n",
    "\n",
    "plt.errorbar(X*180/pi,Y,yerr=sY, ls='', marker='.',label = 'Punti Misurati', zorder = 0)\n",
    "\n",
    "plt.title('Variazione L2 con L4 = Tmax + 45°')\n",
    "plt.xlabel('$\\Theta$ [°]')\n",
    "plt.ylabel('I [mV]')\n",
    "plt.grid()\n",
    "plt.legend(loc = 'upper right')\n",
    "plt.show()"
   ]
  },
  {
   "cell_type": "code",
   "execution_count": 35,
   "metadata": {},
   "outputs": [],
   "source": [
    "# Pt 3\n",
    "def sM(I):\n",
    "    #sI = 0.006*I + 0.005*I + 4\n",
    "    sI = np.sqrt(Pw2(0.006*I)  + Pw2(0.005*I + 4))\n",
    "    return sI\n",
    "\n",
    "def Stokes(In,I0,sIn = 0,sI0 = 0):\n",
    "    Sn = (2*In - I0)/I0\n",
    "    dIn =  2/I0         *sIn\n",
    "    dI0 = -2*In/Pw2(I0) *sI0\n",
    "    sSn = np.sqrt(Pw2(dI0) + Pw2(dIn))\n",
    "    return Sn,sSn\n",
    "\n",
    "def calcV(S1,S2,S3,sS1,sS2,sS3):\n",
    "    V   = np.sqrt(Pw2(S1) + Pw2(S2) + Pw2(S3))\n",
    "    dS1 = S1/V *sS1\n",
    "    dS2 = S2/V *sS2\n",
    "    dS3 = S3/V *sS3\n",
    "    sV  = np.sqrt(Pw2(dS1) + Pw2(dS2) + Pw2(dS3))\n",
    "    return V,sV\n",
    "\n",
    "def tab_misure(I1,I1p,I2,I3):\n",
    "    \n",
    "    title = np.asarray(['I1','I1p','I2','I3'])\n",
    "    ARR   = [I1,I1p,I2,I3]\n",
    "    misure = np.asarray([])\n",
    "    for x in ARR:\n",
    "        AAA = '{} +- {}'.format(x,sM(x))\n",
    "        misure = np.append(misure,AAA)\n",
    "        \n",
    "    df = pd.DataFrame({'':title,'Misure [mV]':misure})\n",
    "    return df\n",
    "    \n",
    "\n",
    "def Parameters(I1,I1p,I2,I3):\n",
    "    \n",
    "    I0  = I1 + I1p        #I2p = I0 - I2  #I3p = I0 - I3\n",
    "    sI0 = np.sqrt(Pw2(sM(I1)) + Pw2(sM(I1p)))\n",
    "    sI1 = sM(I1)\n",
    "    sI2 = sM(I2)\n",
    "    sI3 = sM(I3)\n",
    "    \n",
    "    S1,sS1 = Stokes(I1,I0,sIn = sI1, sI0 = sI0)\n",
    "    S2,sS2 = Stokes(I2,I0,sIn = sI2, sI0 = sI0)\n",
    "    S3,sS3 = Stokes(I3,I0,sIn = sI3, sI0 = sI0)\n",
    "    \n",
    "    V,sV = calcV(S1,S2,S3,sS1,sS2,sS3)\n",
    "    \n",
    "    return I0,S1,S2,S3,V,sI0,sS1,sS2,sS3,sV"
   ]
  },
  {
   "cell_type": "code",
   "execution_count": 36,
   "metadata": {},
   "outputs": [
    {
     "name": "stdout",
     "output_type": "stream",
     "text": [
      "Coeff stokes [mV] massimo alto\n",
      "I0 = 5436 +- 44.682278209598934\n",
      "S1 = -0.9687270051508462 +- 0.0016588502235470046\n",
      "S2 = -0.01692420897718911 +- 0.011869373983230307\n",
      "S3 = -0.14974245768947755 +- 0.010374111037576317\n",
      "V = 0.9803781122571619 +- 0.002288996866055684\n"
     ]
    },
    {
     "data": {
      "text/html": [
       "<div>\n",
       "<style scoped>\n",
       "    .dataframe tbody tr th:only-of-type {\n",
       "        vertical-align: middle;\n",
       "    }\n",
       "\n",
       "    .dataframe tbody tr th {\n",
       "        vertical-align: top;\n",
       "    }\n",
       "\n",
       "    .dataframe thead th {\n",
       "        text-align: right;\n",
       "    }\n",
       "</style>\n",
       "<table border=\"1\" class=\"dataframe\">\n",
       "  <thead>\n",
       "    <tr style=\"text-align: right;\">\n",
       "      <th></th>\n",
       "      <th></th>\n",
       "      <th>Misure [mV]</th>\n",
       "    </tr>\n",
       "  </thead>\n",
       "  <tbody>\n",
       "    <tr>\n",
       "      <th>0</th>\n",
       "      <td>I1</td>\n",
       "      <td>85 +- 4.454292873173024</td>\n",
       "    </tr>\n",
       "    <tr>\n",
       "      <th>1</th>\n",
       "      <td>I1p</td>\n",
       "      <td>5351 +- 44.459703788936785</td>\n",
       "    </tr>\n",
       "    <tr>\n",
       "      <th>2</th>\n",
       "      <td>I2</td>\n",
       "      <td>2672 +- 23.630375028763297</td>\n",
       "    </tr>\n",
       "    <tr>\n",
       "      <th>3</th>\n",
       "      <td>I3</td>\n",
       "      <td>2311 +- 20.838041678622297</td>\n",
       "    </tr>\n",
       "  </tbody>\n",
       "</table>\n",
       "</div>"
      ],
      "text/plain": [
       "                       Misure [mV]\n",
       "0   I1     85 +- 4.454292873173024\n",
       "1  I1p  5351 +- 44.459703788936785\n",
       "2   I2  2672 +- 23.630375028763297\n",
       "3   I3  2311 +- 20.838041678622297"
      ]
     },
     "execution_count": 36,
     "metadata": {},
     "output_type": "execute_result"
    }
   ],
   "source": [
    "# Coeff stokes [mV] massimo alto\n",
    "\n",
    "I1,I1p,I2,I3 = 85,5351,2672,2311\n",
    "I0,S1,S2,S3,V,sI0,sS1,sS2,sS3,sV = Parameters(I1,I1p,I2,I3)\n",
    "df = tab_misure(I1,I1p,I2,I3)\n",
    "\n",
    "#print(df.to_latex(index=False))\n",
    "print('Coeff stokes [mV] massimo alto')\n",
    "print('I0 =',I0,'+-',sI0)\n",
    "print('S1 =',S1,'+-',sS1)\n",
    "print('S2 =',S2,'+-',sS2)\n",
    "print('S3 =',S3,'+-',sS3)\n",
    "print('V =',V,'+-',sV)\n",
    "df"
   ]
  },
  {
   "cell_type": "code",
   "execution_count": 37,
   "metadata": {},
   "outputs": [
    {
     "name": "stdout",
     "output_type": "stream",
     "text": [
      "Coeff stokes [mV] massimo basso\n",
      "I0 = 4320 +- 36.221860802559554\n",
      "S1 = -0.9722222222222222 +- 0.0020112365939821963\n",
      "S2 = 0.20879629629629629 +- 0.014753743329501669\n",
      "S3 = -0.1388888888888889 +- 0.01080456720298935\n",
      "V = 1.00404286073183 +- 0.003929366626377266\n"
     ]
    },
    {
     "data": {
      "text/html": [
       "<div>\n",
       "<style scoped>\n",
       "    .dataframe tbody tr th:only-of-type {\n",
       "        vertical-align: middle;\n",
       "    }\n",
       "\n",
       "    .dataframe tbody tr th {\n",
       "        vertical-align: top;\n",
       "    }\n",
       "\n",
       "    .dataframe thead th {\n",
       "        text-align: right;\n",
       "    }\n",
       "</style>\n",
       "<table border=\"1\" class=\"dataframe\">\n",
       "  <thead>\n",
       "    <tr style=\"text-align: right;\">\n",
       "      <th></th>\n",
       "      <th></th>\n",
       "      <th>Misure [mV]</th>\n",
       "    </tr>\n",
       "  </thead>\n",
       "  <tbody>\n",
       "    <tr>\n",
       "      <th>0</th>\n",
       "      <td>I1</td>\n",
       "      <td>60 +- 4.315043452851894</td>\n",
       "    </tr>\n",
       "    <tr>\n",
       "      <th>1</th>\n",
       "      <td>I1p</td>\n",
       "      <td>4260 +- 35.9639208096114</td>\n",
       "    </tr>\n",
       "    <tr>\n",
       "      <th>2</th>\n",
       "      <td>I2</td>\n",
       "      <td>2611 +- 23.158078093831534</td>\n",
       "    </tr>\n",
       "    <tr>\n",
       "      <th>3</th>\n",
       "      <td>I3</td>\n",
       "      <td>1860 +- 17.36190081759483</td>\n",
       "    </tr>\n",
       "  </tbody>\n",
       "</table>\n",
       "</div>"
      ],
      "text/plain": [
       "                       Misure [mV]\n",
       "0   I1     60 +- 4.315043452851894\n",
       "1  I1p    4260 +- 35.9639208096114\n",
       "2   I2  2611 +- 23.158078093831534\n",
       "3   I3   1860 +- 17.36190081759483"
      ]
     },
     "execution_count": 37,
     "metadata": {},
     "output_type": "execute_result"
    }
   ],
   "source": [
    "# Coeff stokes [mV] massimo basso\n",
    "\n",
    "I1,I1p,I2,I3 = 60,4260,2611,1860\n",
    "I0,S1,S2,S3,V,sI0,sS1,sS2,sS3,sV = Parameters(I1,I1p,I2,I3)\n",
    "df = tab_misure(I1,I1p,I2,I3)\n",
    "\n",
    "#print(df.to_latex(index=False))\n",
    "print('Coeff stokes [mV] massimo basso')\n",
    "print('I0 =',I0,'+-',sI0)\n",
    "print('S1 =',S1,'+-',sS1)\n",
    "print('S2 =',S2,'+-',sS2)\n",
    "print('S3 =',S3,'+-',sS3)\n",
    "print('V =',V,'+-',sV)\n",
    "df"
   ]
  },
  {
   "cell_type": "code",
   "execution_count": 38,
   "metadata": {},
   "outputs": [
    {
     "name": "stdout",
     "output_type": "stream",
     "text": [
      "\\begin{tabular}{ll}\n",
      "\\toprule\n",
      "     &                 Misure [mV] \\\\\n",
      "\\midrule\n",
      "  I1 &   7046 +- 57.67367749675757 \\\\\n",
      " I1p &   5468 +- 45.37136171639551 \\\\\n",
      "  I2 &     729 +- 8.80783179902977 \\\\\n",
      "  I3 &  3324 +- 28.687062170950863 \\\\\n",
      "\\bottomrule\n",
      "\\end{tabular}\n",
      "\n",
      "Laser a vuoto\n",
      "Coeff stokes [mV] massimo alto\n",
      "I0 = 12514 +- 73.38128875946511\n",
      "S1 = 0.1260987693782963 +- 0.011338701891121038\n",
      "S2 = -0.8834904906504715 +- 0.0015647112015684166\n",
      "S3 = -0.468754994406265 +- 0.005542989406489056\n",
      "V = 1.0080613034381138 +- 0.003245920375464076\n"
     ]
    }
   ],
   "source": [
    "# Coeff stokes [mV] massimo alto  laser a vuoto\n",
    "\n",
    "I1,I1p,I2,I3 = 7046,5468,729,3324\n",
    "I0,S1,S2,S3,V,sI0,sS1,sS2,sS3,sV = Parameters(I1,I1p,I2,I3)\n",
    "df = tab_misure(I1,I1p,I2,I3)\n",
    "\n",
    "print(df.to_latex(index=False))\n",
    "print('Laser a vuoto')\n",
    "print('Coeff stokes [mV] massimo alto')\n",
    "print('I0 =',I0,'+-',sI0)\n",
    "print('S1 =',S1,'+-',sS1)\n",
    "print('S2 =',S2,'+-',sS2)\n",
    "print('S3 =',S3,'+-',sS3)\n",
    "print('V =',V,'+-',sV)\n",
    "#df"
   ]
  },
  {
   "cell_type": "code",
   "execution_count": 39,
   "metadata": {},
   "outputs": [
    {
     "name": "stdout",
     "output_type": "stream",
     "text": [
      "\\begin{tabular}{ll}\n",
      "\\toprule\n",
      "     &                 Misure [mV] \\\\\n",
      "\\midrule\n",
      "  I1 &  1305 +- 13.118099138213585 \\\\\n",
      " I1p &    124 +- 4.679523052619786 \\\\\n",
      "  I2 &    456 +- 6.850116495359769 \\\\\n",
      "  I3 &   938 +- 10.353283730295429 \\\\\n",
      "\\bottomrule\n",
      "\\end{tabular}\n",
      "\n",
      "Laser 45\n",
      "Coeff stokes [mV] massimo alto\n",
      "I0 = 1429 +- 13.92775864954588\n",
      "S1 = 0.8264520643806857 +- 0.025572989430322518\n",
      "S2 = -0.3617914625612316 +- 0.011428396765665058\n",
      "S3 = 0.31280615815255425 +- 0.01933096997069123\n",
      "V = 0.9548632204035575 +- 0.023425684592099722\n"
     ]
    }
   ],
   "source": [
    "# Coeff stokes [mV] massimo alto  laser 45\n",
    "I1,I1p,I2,I3 = 1305,124,456,938\n",
    "I0,S1,S2,S3,V,sI0,sS1,sS2,sS3,sV = Parameters(I1,I1p,I2,I3)\n",
    "df = tab_misure(I1,I1p,I2,I3)\n",
    "\n",
    "print(df.to_latex(index=False))\n",
    "print('Laser 45')\n",
    "print('Coeff stokes [mV] massimo alto')\n",
    "print('I0 =',I0,'+-',sI0)\n",
    "print('S1 =',S1,'+-',sS1)\n",
    "print('S2 =',S2,'+-',sS2)\n",
    "print('S3 =',S3,'+-',sS3)\n",
    "print('V =',V,'+-',sV)\n",
    "#df"
   ]
  },
  {
   "cell_type": "code",
   "execution_count": 40,
   "metadata": {},
   "outputs": [
    {
     "name": "stdout",
     "output_type": "stream",
     "text": [
      "Laser 90\n",
      "Coeff stokes [mV] massimo alto QUESTO NON VIENE CAZZO\n",
      "I0 = 3267 +- 26.330336287256184\n",
      "S1 = 0.7936945209672482 +- 0.02133447944618639\n",
      "S2 = -0.19498010407101315 +- 0.010360272768434443\n",
      "S3 = -0.6559534741352924 +- 0.0054157293463578575\n",
      "V = 1.0479709890197975 +- 0.016621850108690828\n"
     ]
    },
    {
     "data": {
      "text/html": [
       "<div>\n",
       "<style scoped>\n",
       "    .dataframe tbody tr th:only-of-type {\n",
       "        vertical-align: middle;\n",
       "    }\n",
       "\n",
       "    .dataframe tbody tr th {\n",
       "        vertical-align: top;\n",
       "    }\n",
       "\n",
       "    .dataframe thead th {\n",
       "        text-align: right;\n",
       "    }\n",
       "</style>\n",
       "<table border=\"1\" class=\"dataframe\">\n",
       "  <thead>\n",
       "    <tr style=\"text-align: right;\">\n",
       "      <th></th>\n",
       "      <th></th>\n",
       "      <th>Misure [mV]</th>\n",
       "    </tr>\n",
       "  </thead>\n",
       "  <tbody>\n",
       "    <tr>\n",
       "      <th>0</th>\n",
       "      <td>I1</td>\n",
       "      <td>2930 +- 25.629648846599515</td>\n",
       "    </tr>\n",
       "    <tr>\n",
       "      <th>1</th>\n",
       "      <td>I1p</td>\n",
       "      <td>337 +- 6.033880094930625</td>\n",
       "    </tr>\n",
       "    <tr>\n",
       "      <th>2</th>\n",
       "      <td>I2</td>\n",
       "      <td>1315 +- 13.194041268693985</td>\n",
       "    </tr>\n",
       "    <tr>\n",
       "      <th>3</th>\n",
       "      <td>I3</td>\n",
       "      <td>562 +- 7.599110737448166</td>\n",
       "    </tr>\n",
       "  </tbody>\n",
       "</table>\n",
       "</div>"
      ],
      "text/plain": [
       "                       Misure [mV]\n",
       "0   I1  2930 +- 25.629648846599515\n",
       "1  I1p    337 +- 6.033880094930625\n",
       "2   I2  1315 +- 13.194041268693985\n",
       "3   I3    562 +- 7.599110737448166"
      ]
     },
     "execution_count": 40,
     "metadata": {},
     "output_type": "execute_result"
    }
   ],
   "source": [
    "# Coeff stokes [mV] massimo alto  laser 90   QUESTO NON VIENE CAZZO \n",
    "I1,I1p,I2,I3 = 2930,337,1315,562\n",
    "I0,S1,S2,S3,V,sI0,sS1,sS2,sS3,sV = Parameters(I1,I1p,I2,I3)\n",
    "df = tab_misure(I1,I1p,I2,I3)\n",
    "\n",
    "#print(df.to_latex(index=False))\n",
    "print('Laser 90')\n",
    "print('Coeff stokes [mV] massimo alto QUESTO NON VIENE CAZZO')\n",
    "print('I0 =',I0,'+-',sI0)\n",
    "print('S1 =',S1,'+-',sS1)\n",
    "print('S2 =',S2,'+-',sS2)\n",
    "print('S3 =',S3,'+-',sS3)\n",
    "print('V =',V,'+-',sV)\n",
    "df"
   ]
  },
  {
   "cell_type": "code",
   "execution_count": 41,
   "metadata": {},
   "outputs": [
    {
     "name": "stdout",
     "output_type": "stream",
     "text": [
      "\\begin{tabular}{ll}\n",
      "\\toprule\n",
      "     &                 Misure [mV] \\\\\n",
      "\\midrule\n",
      "  I1 &  3188 +- 27.631213943654377 \\\\\n",
      " I1p &  1140 +- 11.869102746206218 \\\\\n",
      "  I2 &   1881 +- 17.52335073551859 \\\\\n",
      "  I3 &   275 +- 5.6225550241860685 \\\\\n",
      "\\bottomrule\n",
      "\\end{tabular}\n",
      "\n",
      "Laser 101\n",
      "Coeff stokes [mV] massimo alto  laser 101   \n",
      "I0 = 4328 +- 30.072571955188668\n",
      "S1 = 0.4731977818853974 +- 0.016365183017526118\n",
      "S2 = -0.13077634011090572 +- 0.010101984795329736\n",
      "S3 = -0.8729205175600739 +- 0.002744165785408836\n",
      "V = 1.0015032810187947 +- 0.008200617926852017\n"
     ]
    }
   ],
   "source": [
    "# Coeff stokes [mV] massimo alto  laser 101    \n",
    "I1,I1p,I2,I3 = 3188,1140,1881,275\n",
    "I0,S1,S2,S3,V,sI0,sS1,sS2,sS3,sV = Parameters(I1,I1p,I2,I3)\n",
    "df = tab_misure(I1,I1p,I2,I3)\n",
    "\n",
    "print(df.to_latex(index=False))\n",
    "print('Laser 101')\n",
    "print('Coeff stokes [mV] massimo alto  laser 101   ')\n",
    "print('I0 =',I0,'+-',sI0)\n",
    "print('S1 =',S1,'+-',sS1)\n",
    "print('S2 =',S2,'+-',sS2)\n",
    "print('S3 =',S3,'+-',sS3)\n",
    "print('V =',V,'+-',sV)\n",
    "#df"
   ]
  },
  {
   "cell_type": "code",
   "execution_count": 42,
   "metadata": {},
   "outputs": [
    {
     "name": "stdout",
     "output_type": "stream",
     "text": [
      "\\begin{tabular}{ll}\n",
      "\\toprule\n",
      "     &                 Misure [mV] \\\\\n",
      "\\midrule\n",
      "  I1 &  2970 +- 25.939832304777916 \\\\\n",
      " I1p &   3980 +- 33.78556496493732 \\\\\n",
      "  I2 &    579 +- 7.720731895358108 \\\\\n",
      "  I3 &  2108 +- 19.271312980697502 \\\\\n",
      "\\bottomrule\n",
      "\\end{tabular}\n",
      "\n",
      "Laser cristallo\n",
      "Coeff stokes [mV] massimo max alto crisallo\n",
      "I0 = 6950 +- 42.59506192036819\n",
      "S1 = -0.14532374100719425 +- 0.00911919558106123\n",
      "S2 = -0.8333812949640288 +- 0.002445230994402207\n",
      "S3 = -0.3933812949640288 +- 0.0066766092956055765\n",
      "V = 0.9329481313148249 +- 0.0038359166828963514\n"
     ]
    }
   ],
   "source": [
    "# Coeff stokes [mV] massimo alto  laser CRISTALLO   \n",
    "I1,I1p,I2,I3 = 2970,3980,579,2108\n",
    "I0,S1,S2,S3,V,sI0,sS1,sS2,sS3,sV = Parameters(I1,I1p,I2,I3)\n",
    "df = tab_misure(I1,I1p,I2,I3)\n",
    "\n",
    "print(df.to_latex(index=False))\n",
    "print('Laser cristallo')\n",
    "print('Coeff stokes [mV] massimo max alto crisallo')\n",
    "print('I0 =',I0,'+-',sI0)\n",
    "print('S1 =',S1,'+-',sS1)\n",
    "print('S2 =',S2,'+-',sS2)\n",
    "print('S3 =',S3,'+-',sS3)\n",
    "print('V =',V,'+-',sV)\n",
    "#df"
   ]
  },
  {
   "cell_type": "code",
   "execution_count": null,
   "metadata": {},
   "outputs": [],
   "source": []
  },
  {
   "cell_type": "code",
   "execution_count": null,
   "metadata": {},
   "outputs": [],
   "source": []
  },
  {
   "cell_type": "code",
   "execution_count": null,
   "metadata": {},
   "outputs": [],
   "source": []
  }
 ],
 "metadata": {
  "kernelspec": {
   "display_name": "Python 3",
   "language": "python",
   "name": "python3"
  },
  "language_info": {
   "codemirror_mode": {
    "name": "ipython",
    "version": 3
   },
   "file_extension": ".py",
   "mimetype": "text/x-python",
   "name": "python",
   "nbconvert_exporter": "python",
   "pygments_lexer": "ipython3",
   "version": "3.7.6"
  }
 },
 "nbformat": 4,
 "nbformat_minor": 4
}
